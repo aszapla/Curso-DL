{
  "nbformat": 4,
  "nbformat_minor": 0,
  "metadata": {
    "colab": {
      "name": "1.4-Machine Learning con sklearn.ipynb",
      "version": "0.3.2",
      "provenance": [],
      "collapsed_sections": [
        "hk3AwRl-oPUE"
      ],
      "toc_visible": true,
      "include_colab_link": true
    },
    "kernelspec": {
      "name": "python3",
      "display_name": "Python 3"
    }
  },
  "cells": [
    {
      "cell_type": "markdown",
      "metadata": {
        "id": "view-in-github",
        "colab_type": "text"
      },
      "source": [
        "<a href=\"https://colab.research.google.com/github/aszapla/Curso-DL/blob/master/1_4_Machine_Learning_con_sklearn.ipynb\" target=\"_parent\"><img src=\"https://colab.research.google.com/assets/colab-badge.svg\" alt=\"Open In Colab\"/></a>"
      ]
    },
    {
      "cell_type": "markdown",
      "metadata": {
        "id": "jTtpYjlARmXc",
        "colab_type": "text"
      },
      "source": [
        "<center><img src=\"https://www.dlsi.ua.es/~juanra/UA/curso_verano_DL/images/sklearn-logo.png\" height=\"100\"></center>\n",
        "\n",
        "# 1.4 Machine Learning con sklearn\n",
        "\n",
        "Profesor: Juan Ramón Rico (<juanramonrico@ua.es>)\n",
        "\n",
        "## Resumen\n",
        "---\n",
        " **Scikit-Learn**: es el principal paquete de aprendizaje automático (Machine Learning) de propósito general en `Python`. Tiene gran cantidad de algoritmos y módulos para el pre-procesamiento, validación cruzada y ajuste de hiper-parámetros de modelos, clasificación/regresión, etc.\n",
        "- Documentación <http://scikit-learn.org/stable/documentation.html>\n",
        "- Tutorial de inicio rápido <http://elitedatascience.com/python-machine-learning-tutorial-scikit-learn>\n",
        "\n",
        "---"
      ]
    },
    {
      "cell_type": "markdown",
      "metadata": {
        "id": "2-m1B9GOyTaK",
        "colab_type": "text"
      },
      "source": [
        "# Paquete sklearn\n",
        "\n",
        "- Funciones simples y eficientes para minería de datos y análisis de datos en general.\n",
        "- Contiene gran variedad de algoritmos de Machine Learning. Además, tiene funciones de preprocesado, filtrado y transformación de datos.\n",
        "- Construida sobre NumPy, SciPy, y matplotlib\n",
        "- Código abierto, se permite su uso comercial - Licencia BSD"
      ]
    },
    {
      "cell_type": "markdown",
      "metadata": {
        "id": "sEe5xOeH1RRQ",
        "colab_type": "text"
      },
      "source": [
        "# Conceptos básicos sobre Machine Learning"
      ]
    },
    {
      "cell_type": "markdown",
      "metadata": {
        "id": "uJw_N40R1Uic",
        "colab_type": "text"
      },
      "source": [
        "## Tipos de algoritmos\n"
      ]
    },
    {
      "cell_type": "markdown",
      "metadata": {
        "id": "1L1jzV5k4l3u",
        "colab_type": "text"
      },
      "source": [
        "### Aprendizaje supervisado\n",
        "\n",
        "Típicamente son los algoritmos de clasificación o regresión donde se necesita conocer los datos de las entradas y su resultado (objetivo o salida) donde el sistema de aprendizaje trata de predecir los resultados de entradas que nunca ha visto.\n",
        "\n",
        "<center><img src=\"https://www.dlsi.ua.es/~juanra/UA/curso_verano_DL/images/supervised_learning.png\"></center>\n"
      ]
    },
    {
      "cell_type": "markdown",
      "metadata": {
        "id": "BsfIBUox8sGW",
        "colab_type": "text"
      },
      "source": [
        "### Aprendizaje no supervisado\n",
        "\n",
        "El aprendizaje de estos algoritmos solo se aplica a los datos de entrada, ya que se desconocen sus resultados. Son típicos los algoritmos de agrupación (clustering) para conocer los grupos que se forman con los datos de entrada.\n",
        "\n",
        "<center><img src=\"https://www.dlsi.ua.es/~juanra/UA/curso_verano_DL/images/unsupervised_learning.png\"></center>\n"
      ]
    },
    {
      "cell_type": "markdown",
      "metadata": {
        "id": "YOJ2d4zL8yHl",
        "colab_type": "text"
      },
      "source": [
        "### Aprendizaje por refuerzo\n",
        "\n",
        "El algoritmo aprende observando el mundo que le rodea. Tiene mayor dificultad que los dos tipos anteriores y necesita más datos. La información de entrada es la retroalimentación que obtiene del mundo exterior como respuesta a sus acciones. Por lo tanto, el sistema aprende a base de ensayo-error. Se aplica entornos simulados típicamente vídeo juegos para recoger tanta cantidad de datos como se necesiten, o en robótica para que el sistema interactue con el entorno.\n",
        "\n",
        "<center><img src=\"https://www.dlsi.ua.es/~juanra/UA/curso_verano_DL/images/reinforcement_learning.png\"></center>"
      ]
    },
    {
      "cell_type": "markdown",
      "metadata": {
        "id": "sNsK29Fotyx5",
        "colab_type": "text"
      },
      "source": [
        "## ¿Cómo evaluar un modelo de clasificación o regresión?"
      ]
    },
    {
      "cell_type": "markdown",
      "metadata": {
        "id": "Pqmxtqqqt8Ob",
        "colab_type": "text"
      },
      "source": [
        "* Existen varias técnicas para evaluar un modelo antes de usarlo en producción, o bien para comparlo con otro y saber que grado de acierto tiene.\n",
        "\n",
        "* La técnica más usada actualmente se llama de [**validación cruzada**](https://es.wikipedia.org/wiki/Validaci%C3%B3n_cruzada) (cros-validation en inglés). \n",
        "\n",
        "* La idea básica es dividir los datos disponibles en **dos grupos**: un grupo se usaría para entrenar el modelo y el otro grupo para comprobar el grado de acierto (tasa de aciertos en clasificación, o medir el error cometido en regresión).\n",
        "\n",
        "* Este proceso se repite varias veces (normalmente 10) y de forma ordenada.\n",
        "\n",
        "* Finalmente se calcula su media aritmética que nos servirá para conocer el grado de predicción del modelo.\n",
        "\n",
        "<center><img src=\"https://www.dlsi.ua.es/~juanra/UA/curso_verano_DL/images/10_fold_cv.png\"></center>\n"
      ]
    },
    {
      "cell_type": "markdown",
      "metadata": {
        "id": "QlL7dkvzz5D8",
        "colab_type": "text"
      },
      "source": [
        "En todos los modelos que se aprenden hay que tener presente **dos conceptos clave**.\n",
        "\n",
        "La capacidad de un modelo de reconocer o pronosticar un valor en base a nuevos datos que no se han usado en la fase de entrenamiento (**generalización**), o bien, en base datos que sí se han usado en el entrenamiento (**memorización**).\n",
        "\n",
        "<center><img src=\"https://www.dlsi.ua.es/~juanra/UA/curso_verano_DL/images/balanza_mg.png\" height=\"200\"></center>\n",
        "\n",
        "\n"
      ]
    },
    {
      "cell_type": "markdown",
      "metadata": {
        "id": "94z71L4LUVzN",
        "colab_type": "text"
      },
      "source": [
        "# Pruebas sobre clasificación y regresión"
      ]
    },
    {
      "cell_type": "markdown",
      "metadata": {
        "id": "dniV3w1-Vs_i",
        "colab_type": "text"
      },
      "source": [
        "## Importar paquetes que vamos a usar"
      ]
    },
    {
      "cell_type": "code",
      "metadata": {
        "id": "g3KyA2kMVy7Z",
        "colab_type": "code",
        "colab": {}
      },
      "source": [
        "import numpy as np   # Manejo de vectores\n",
        "import pandas as pd  # Manipulación de tablas de datos\n",
        "import sklearn as sk # Gran colección de algorimos de Machine Learning juntos a otros de filtrado, preprocesado y cálculo de resultados"
      ],
      "execution_count": 0,
      "outputs": []
    },
    {
      "cell_type": "markdown",
      "metadata": {
        "id": "wWnDJ8nKU08Y",
        "colab_type": "text"
      },
      "source": [
        "## Copiar conjuntos de datos"
      ]
    },
    {
      "cell_type": "code",
      "metadata": {
        "id": "s_pRbzZTRgWL",
        "colab_type": "code",
        "colab": {}
      },
      "source": [
        "# Hay que copiar los archivos de ejemplo\n",
        "!wget https://www.dlsi.ua.es/~juanra/UA/curso_verano_DL/data/basic_data.zip\n",
        "!unzip basic_data"
      ],
      "execution_count": 0,
      "outputs": []
    },
    {
      "cell_type": "markdown",
      "metadata": {
        "id": "BgEvs470VkeL",
        "colab_type": "text"
      },
      "source": [
        "## Cargar iris.csv"
      ]
    },
    {
      "cell_type": "markdown",
      "metadata": {
        "id": "DjuDrxUa2iLa",
        "colab_type": "text"
      },
      "source": [
        "En 1935 Edgar Anderson hizo un estudio en el que recolectó las diferencias en las medidas (ancho y largo de los pétalos y sépalos) de tres variedades de flores tipo iris que están estrechamente relacionadas. Este [ejemplo sencillo de 150 muestras de flores tipo iris](https://en.wikipedia.org/wiki/Iris_flower_data_set) se incluye en la mayoría de libros y programas relacionados con análisis o predicción de datos.\n",
        "\n",
        "<center><img src=\"https://www.dlsi.ua.es/~juanra/UA/curso_verano_DL/images/iris-ml.png\"></center>\n"
      ]
    },
    {
      "cell_type": "code",
      "metadata": {
        "id": "wAZPXghcSe6D",
        "colab_type": "code",
        "colab": {}
      },
      "source": [
        "data = pd.read_csv('./basic_data/iris.csv')\n",
        "display(data.head())\n",
        "display(data.dtypes)"
      ],
      "execution_count": 0,
      "outputs": []
    },
    {
      "cell_type": "code",
      "metadata": {
        "id": "f9W72DwhWsk7",
        "colab_type": "code",
        "colab": {}
      },
      "source": [
        "# Convirtiendo los tipos de 64 a 32 bits\n",
        "pares = {'int64':'int32', 'float64':'float32'}\n",
        "for i in data.columns:\n",
        "  pareja = pares.get(str(data[i].dtype))\n",
        "  if pareja != None:\n",
        "    data[i]= data[i].astype(pareja)\n",
        "\n",
        "data['class'] = data['class'].astype('category')\n",
        "data.dtypes"
      ],
      "execution_count": 0,
      "outputs": []
    },
    {
      "cell_type": "markdown",
      "metadata": {
        "id": "HWeHmmM8bWbG",
        "colab_type": "text"
      },
      "source": [
        "## Visualización de los datos\n"
      ]
    },
    {
      "cell_type": "code",
      "metadata": {
        "id": "I93OWPitXqFS",
        "colab_type": "code",
        "colab": {}
      },
      "source": [
        "# Diagrama de cajas general\n",
        "data.boxplot()"
      ],
      "execution_count": 0,
      "outputs": []
    },
    {
      "cell_type": "code",
      "metadata": {
        "id": "6xoLU5i_bceH",
        "colab_type": "code",
        "colab": {}
      },
      "source": [
        "# Diagrama de cajas por clases\n",
        "data.groupby('class').boxplot(layout=(1,3),figsize=(20,5))"
      ],
      "execution_count": 0,
      "outputs": []
    },
    {
      "cell_type": "markdown",
      "metadata": {
        "id": "2PAW4Vk7c68b",
        "colab_type": "text"
      },
      "source": [
        "## Clasificación"
      ]
    },
    {
      "cell_type": "markdown",
      "metadata": {
        "id": "vyXki78Htw4L",
        "colab_type": "text"
      },
      "source": [
        "### Preparar datos para la clasificación"
      ]
    },
    {
      "cell_type": "code",
      "metadata": {
        "id": "_JsUofcRt4ua",
        "colab_type": "code",
        "colab": {}
      },
      "source": [
        "x = data[['sepallength','sepalwidth','petallength','petalwidth']]\n",
        "y = data[['class']]"
      ],
      "execution_count": 0,
      "outputs": []
    },
    {
      "cell_type": "markdown",
      "metadata": {
        "id": "ynEpmhSQrMNw",
        "colab_type": "text"
      },
      "source": [
        "### Calcular los aciertos de un solo clasificador"
      ]
    },
    {
      "cell_type": "code",
      "metadata": {
        "id": "fzj3z7d5rQWz",
        "colab_type": "code",
        "colab": {}
      },
      "source": [
        "from sklearn.model_selection import train_test_split\n",
        "from sklearn.neighbors import KNeighborsClassifier\n",
        "\n",
        "x_train, x_test, y_train, y_test = train_test_split(x, y, test_size=0.1, random_state=123)\n",
        "clf = KNeighborsClassifier(3)\n",
        "clf.fit(x_train, y_train)\n",
        "score = clf.score(x_test, y_test)\n",
        "print('aciertos: {:.2f}'.format(score))"
      ],
      "execution_count": 0,
      "outputs": []
    },
    {
      "cell_type": "code",
      "metadata": {
        "id": "vcmSofw0w7ou",
        "colab_type": "code",
        "colab": {}
      },
      "source": [
        "# Nueva muestra\n",
        "x_new = [[6.7, 3.2, 6.1, 2.3]]\n",
        "\n",
        "print('Decisión: {}'.format(clf.predict(x_new)))\n",
        "print('Posibilidades: {}'.format(y['class'].cat.categories))\n",
        "print('Probabilidades: {}'.format(clf.predict_proba(x_new)))"
      ],
      "execution_count": 0,
      "outputs": []
    },
    {
      "cell_type": "markdown",
      "metadata": {
        "id": "yfF1cG3FnOPa",
        "colab_type": "text"
      },
      "source": [
        "### Calcular los aciertos de  varios clasificadores"
      ]
    },
    {
      "cell_type": "code",
      "metadata": {
        "id": "psQCOCOkc910",
        "colab_type": "code",
        "colab": {}
      },
      "source": [
        "from sklearn.neural_network import MLPClassifier\n",
        "from sklearn.neighbors import KNeighborsClassifier\n",
        "from sklearn.svm import SVC\n",
        "from sklearn.tree import DecisionTreeClassifier\n",
        "from sklearn.ensemble import RandomForestClassifier, AdaBoostClassifier\n",
        "from sklearn.naive_bayes import GaussianNB\n",
        "from sklearn.linear_model import LogisticRegression\n",
        "\n",
        "names = [\"Nearest Neighbors\", \"Linear SVM\", \"RBF SVM\",\n",
        "         \"Decision Tree\", \"Random Forest\", \"MLP\", \"AdaBoost\",\n",
        "         \"Naive Bayes\", \"Logistic Regression\"]\n",
        "\n",
        "classifiers = [\n",
        "    KNeighborsClassifier(3),\n",
        "    SVC(kernel=\"linear\", C=0.025),\n",
        "    SVC(gamma=2, C=1),\n",
        "    DecisionTreeClassifier(max_depth=5),\n",
        "    RandomForestClassifier(max_depth=5, n_estimators=10, max_features=1),\n",
        "    MLPClassifier(alpha=1),\n",
        "    AdaBoostClassifier(),\n",
        "    GaussianNB(),\n",
        "    LogisticRegression()]"
      ],
      "execution_count": 0,
      "outputs": []
    },
    {
      "cell_type": "markdown",
      "metadata": {
        "id": "X7RDumUPnWfv",
        "colab_type": "text"
      },
      "source": [
        "### Resultados con validación cruzada"
      ]
    },
    {
      "cell_type": "code",
      "metadata": {
        "id": "elRDBPVpmdba",
        "colab_type": "code",
        "colab": {}
      },
      "source": [
        "%%capture --no-stdout\n",
        "from sklearn.model_selection import cross_val_score\n",
        "\n",
        "# iterate over classifiers\n",
        "for name, clf in zip(names, classifiers):\n",
        "  results = np.round(cross_val_score(clf, x, y, cv=10),2)\n",
        "  print('{:20s} media: {:.2} resultados: {}'.format(name,results.mean(), results))"
      ],
      "execution_count": 0,
      "outputs": []
    },
    {
      "cell_type": "markdown",
      "metadata": {
        "id": "a6W0V11yoIx8",
        "colab_type": "text"
      },
      "source": [
        "## Regresión"
      ]
    },
    {
      "cell_type": "markdown",
      "metadata": {
        "id": "hk3AwRl-oPUE",
        "colab_type": "text"
      },
      "source": [
        "### Cargar datos para calcular la regresión\n",
        "\n",
        "Vamos a cargar los datos de correspondientes a los precios de las casas en Boston (house-prices dataset) que está en `sklearn`."
      ]
    },
    {
      "cell_type": "code",
      "metadata": {
        "id": "uuecuTjHoIMF",
        "colab_type": "code",
        "colab": {}
      },
      "source": [
        "from sklearn.model_selection import train_test_split\n",
        "from sklearn.datasets import load_boston\n",
        "\n",
        "boston = load_boston()\n",
        "boston_x, boston_y = boston.data.astype('float32'), boston.target.astype('float32')\n",
        "x_train, x_test, y_train, y_test = train_test_split(boston_x, boston_y, test_size=0.1, random_state=123)\n",
        "print(boston.DESCR)"
      ],
      "execution_count": 0,
      "outputs": []
    },
    {
      "cell_type": "markdown",
      "metadata": {
        "id": "h5sbBUutrNv0",
        "colab_type": "text"
      },
      "source": [
        "### Aplicar un algoritmo de regresión"
      ]
    },
    {
      "cell_type": "code",
      "metadata": {
        "id": "fCb_NtNFrNv4",
        "colab_type": "code",
        "colab": {}
      },
      "source": [
        "import sklearn as sk\n",
        "from sklearn.neighbors import KNeighborsRegressor\n",
        "from sklearn.model_selection import train_test_split\n",
        "\n",
        "reg = KNeighborsRegressor(3)\n",
        "reg.fit(x_train, y_train)\n",
        "y_pred = reg.predict(x_test)\n",
        "score = sk.metrics.mean_absolute_error(y_test, y_pred)\n",
        "print('mean absolute error: {:.2f}'.format(score))"
      ],
      "execution_count": 0,
      "outputs": []
    },
    {
      "cell_type": "code",
      "metadata": {
        "id": "6M_aqGgu2GCn",
        "colab_type": "code",
        "colab": {}
      },
      "source": [
        "# Suponemos que queremos predecir una nueva muestra\n",
        "\n",
        "print(boston.feature_names)\n",
        "x_new = np.array([x_test[-1]]) # Última muestra de test\n",
        "print('Características: {}'.format(x_new[0]))\n",
        "print('Predicción: {}'.format(reg.predict(x_new)[0]))\n",
        "print('Valor real: {}'.format(y_test[-1]))"
      ],
      "execution_count": 0,
      "outputs": []
    },
    {
      "cell_type": "markdown",
      "metadata": {
        "id": "odoMGOmatIlU",
        "colab_type": "text"
      },
      "source": [
        "### Aplicar varios algoritmos de regresión"
      ]
    },
    {
      "cell_type": "code",
      "metadata": {
        "id": "RerNPLl4tIlY",
        "colab_type": "code",
        "colab": {}
      },
      "source": [
        "from sklearn.neural_network import MLPRegressor\n",
        "from sklearn.neighbors import KNeighborsRegressor\n",
        "from sklearn.svm import SVR\n",
        "from sklearn.tree import DecisionTreeRegressor\n",
        "from sklearn.ensemble import RandomForestRegressor, AdaBoostRegressor\n",
        "from sklearn.gaussian_process import GaussianProcessRegressor\n",
        "from sklearn.linear_model import LinearRegression\n",
        "\n",
        "names = [\"Nearest Neighbors\", \"Linear SVM\", \"RBF SVM\",\n",
        "         \"Decision Tree\", \"Random Forest\", \"Neural Net\", \"AdaBoost\",\n",
        "         \"Gaussina Proc.\", \"Linear Regression\"]\n",
        "\n",
        "regressors = [\n",
        "    KNeighborsRegressor(3),\n",
        "    SVR(kernel=\"linear\", C=0.025),\n",
        "    SVR(gamma=2, C=1),\n",
        "    DecisionTreeRegressor(max_depth=5),\n",
        "    RandomForestRegressor(max_depth=5, n_estimators=10, max_features=1),\n",
        "    MLPRegressor(alpha=1),\n",
        "    AdaBoostRegressor(),\n",
        "    GaussianProcessRegressor(),\n",
        "    LinearRegression()]"
      ],
      "execution_count": 0,
      "outputs": []
    },
    {
      "cell_type": "markdown",
      "metadata": {
        "id": "OKnyIjamv4Nv",
        "colab_type": "text"
      },
      "source": [
        "### Resultados con validación cruzada"
      ]
    },
    {
      "cell_type": "code",
      "metadata": {
        "id": "8GMvZG3Xv4Ny",
        "colab_type": "code",
        "colab": {}
      },
      "source": [
        "%%capture --no-stdout\n",
        "from sklearn.model_selection import cross_val_score, KFold\n",
        "from sklearn.pipeline import Pipeline\n",
        "from sklearn.preprocessing import StandardScaler\n",
        "\n",
        "# iterate over classifiers\n",
        "cv = KFold(n_splits=10, random_state=123)\n",
        "estimators = [ ('standardize', StandardScaler()), () ]\n",
        "for name, reg in zip(names, regressors):\n",
        "  estimators[1]=(name, reg)\n",
        "  pipeline = Pipeline(estimators)\n",
        "\n",
        "  results = -np.round(cross_val_score(pipeline, boston_x, boston_y, scoring='neg_mean_absolute_error', cv=cv),2)\n",
        "  print('{:20s} media: {:.02} resultados: {}'.format(name,results.mean(), results))"
      ],
      "execution_count": 0,
      "outputs": []
    },
    {
      "cell_type": "markdown",
      "metadata": {
        "id": "YxG9bRlY39YL",
        "colab_type": "text"
      },
      "source": [
        "\n",
        "---\n",
        "\n",
        "# Resumen"
      ]
    },
    {
      "cell_type": "markdown",
      "metadata": {
        "id": "H5ESNcU23_e-",
        "colab_type": "text"
      },
      "source": [
        "* Aprendizaje **supervisado** y **no supervisado**.\n",
        "\n",
        "* Evaluación de modelos con la técnica de **validación cruzada**.\n",
        "\n",
        "* Planteamiento de problemas como una función **mapeado $ f(x) = y $** (supervisado), teniendo un conjunto de características $x$ queremos obtener la clase o el valor $y$.\n",
        "\n",
        "* Ejemplos sencillos de **clasificación** y **regresión**, además de como aplicar varios algoritmos sobre el mismo conjunto de datos.\n",
        "\n",
        "* **sklearn** paquete de referencia en Python para usar ténicas de Machine Learning. Contiene los principales algoritmos de clasificación, regresión así como otros complementarios de evaluación de modelos, filtrado, escalado, deteccción de atípicos, etc."
      ]
    }
  ]
}