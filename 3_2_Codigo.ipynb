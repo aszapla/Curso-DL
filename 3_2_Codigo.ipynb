{
  "nbformat": 4,
  "nbformat_minor": 0,
  "metadata": {
    "colab": {
      "name": "3.2.-Codigo.ipynb",
      "version": "0.3.2",
      "provenance": [],
      "collapsed_sections": [],
      "include_colab_link": true
    },
    "kernelspec": {
      "name": "python3",
      "display_name": "Python 3"
    }
  },
  "cells": [
    {
      "cell_type": "markdown",
      "metadata": {
        "id": "view-in-github",
        "colab_type": "text"
      },
      "source": [
        "<a href=\"https://colab.research.google.com/github/aszapla/Curso-DL/blob/master/3_2_Codigo.ipynb\" target=\"_parent\"><img src=\"https://colab.research.google.com/assets/colab-badge.svg\" alt=\"Open In Colab\"/></a>"
      ]
    },
    {
      "cell_type": "markdown",
      "metadata": {
        "id": "sEIQQXr_-dsr",
        "colab_type": "text"
      },
      "source": [
        "# Sesión 3.2: Combinación redes recurrentes y convolucionales\n",
        "\n",
        "Profesor: [Jorge Calvo Zaragoza](mailto:jcalvo@prhlt.upv.es)\n"
      ]
    },
    {
      "cell_type": "markdown",
      "metadata": {
        "id": "kwNKIv9ynJv1",
        "colab_type": "text"
      },
      "source": [
        "\n",
        "## Ejemplo guiado: reconocimiento de texto\n",
        "\n",
        "En esta sesión implementaremos un reconocedor de texto (*Optical Character Recognition*, OCR) mediante un enfoque encoder-decoder. La arquitectura a implementar seguirá una estructura como la descrita en la siguiente imágen:\n",
        "\n",
        "![Arquitectura](https://drive.google.com/uc?id=1nti512wD3j5xUuzlHh8GdOfxs7jq2bf7)\n"
      ]
    },
    {
      "cell_type": "markdown",
      "metadata": {
        "id": "L1X7sOxxnLou",
        "colab_type": "text"
      },
      "source": [
        "### Código Keras paso a paso"
      ]
    },
    {
      "cell_type": "markdown",
      "metadata": {
        "id": "AMgZKYXvXnYV",
        "colab_type": "text"
      },
      "source": [
        "En primer lugar vamos a implementar una función que nos genere una imagen con el texto que se le pasa por parámetro. Para ello utilizaremos la librería OpenCV."
      ]
    },
    {
      "cell_type": "code",
      "metadata": {
        "id": "d87AcOomnHw4",
        "colab_type": "code",
        "colab": {}
      },
      "source": [
        "import cv2\n",
        "import numpy as np\n",
        "\n",
        "def generateText(text):\n",
        "    # Caracteristicas del texto a generar\n",
        "    font = cv2.FONT_HERSHEY_SCRIPT_SIMPLEX # Fuente que simula escritura manuscrita\n",
        "    font_scale = 4\n",
        "    margin = 100\n",
        "    thickness = 4\n",
        "    color = 255\n",
        "    \n",
        "    # Calculamos\n",
        "    size = cv2.getTextSize(text, font, font_scale, thickness)\n",
        "    \n",
        "    text_width = size[0][0]\n",
        "    text_height = size[0][1]\n",
        "    \n",
        "    image = np.zeros((text_height+margin,text_width+margin*2),'uint8')\n",
        "        \n",
        "    x = margin\n",
        "    y = (image.shape[0] + text_height) // 2\n",
        "    \n",
        "    # Pintamos el texto en la imagen\n",
        "    cv2.putText(image, text, (x, y), font, font_scale, color, thickness) \n",
        "\n",
        "    return image"
      ],
      "execution_count": 0,
      "outputs": []
    },
    {
      "cell_type": "markdown",
      "metadata": {
        "id": "CLZJzGornzoY",
        "colab_type": "text"
      },
      "source": [
        "Podemos comprobar qué aspecto tienen las imagenes generadas."
      ]
    },
    {
      "cell_type": "code",
      "metadata": {
        "id": "GuEBaFixn4VI",
        "colab_type": "code",
        "outputId": "9952c1b0-8af1-4e59-b5f3-f000cf0fd2f4",
        "colab": {
          "base_uri": "https://localhost:8080/",
          "height": 240
        }
      },
      "source": [
        "import matplotlib\n",
        "from matplotlib import pyplot\n",
        "%matplotlib inline\n",
        "matplotlib.rcParams['figure.dpi']= 150\n",
        "\n",
        "pyplot.imshow(generateText(\"Deep Learning\"))"
      ],
      "execution_count": 0,
      "outputs": [
        {
          "output_type": "execute_result",
          "data": {
            "text/plain": [
              "<matplotlib.image.AxesImage at 0x7fcbd76556a0>"
            ]
          },
          "metadata": {
            "tags": []
          },
          "execution_count": 16
        },
        {
          "output_type": "display_data",
          "data": {
            "image/png": "[encoded data removed]",
            "text/plain": [
              "<matplotlib.figure.Figure at 0x7fcbefe458d0>"
            ]
          },
          "metadata": {
            "tags": []
          }
        }
      ]
    },
    {
      "cell_type": "markdown",
      "metadata": {
        "id": "EiThkWQkoYRh",
        "colab_type": "text"
      },
      "source": [
        "Con esta función podemos generar las imágenes pero nos falta saber qué vocabulario vamos a considerar. En lugar de generar palabras aleatorias, vamos a utilizar conjuntos de palabras pre-establecidos. En concreto, vamos a crear *nombres propios* a partir de palabras en mayúsculas. "
      ]
    },
    {
      "cell_type": "code",
      "metadata": {
        "id": "7A0ByuJMopSZ",
        "colab_type": "code",
        "outputId": "92a7bfda-dbc3-4d8c-a6c3-7b3e2932300e",
        "colab": {
          "base_uri": "https://localhost:8080/",
          "height": 52
        }
      },
      "source": [
        "import urllib.request # Python3\n",
        "word_url = \"http://svnweb.freebsd.org/csrg/share/dict/words?view=co&content-type=text/plain\"\n",
        "response = urllib.request.urlopen(word_url)\n",
        "long_txt = response.read().decode()\n",
        "words = long_txt.splitlines()\n",
        "\n",
        "# Filtramos las palabras que solo tengan la primera letra en mayúscula\n",
        "upper_words = [word for word in words if word[0].isupper()]\n",
        "name_words  = [word for word in upper_words if not word.isupper()]\n",
        "\n",
        "# Comprobación\n",
        "print(name_words[2])\n",
        "print(name_words[-2])"
      ],
      "execution_count": 0,
      "outputs": [
        {
          "output_type": "stream",
          "text": [
            "Ababa\n",
            "Zulu\n"
          ],
          "name": "stdout"
        }
      ]
    },
    {
      "cell_type": "markdown",
      "metadata": {
        "id": "VVj0b62bq2aQ",
        "colab_type": "text"
      },
      "source": [
        "Nuestro conjunto de entrenamiento va a estar compuesto por muestras que contienen dos palabras de este conjunto (como si fueran un nombre y un apellido). Seleccionaremos al azar 5000 combinaciones para obtener nuestro conjunto de entrenamiento."
      ]
    },
    {
      "cell_type": "code",
      "metadata": {
        "id": "LuCOmk6FrDfP",
        "colab_type": "code",
        "outputId": "fdf68dfc-83ab-42c1-e931-cf6586ee47d0",
        "colab": {
          "base_uri": "https://localhost:8080/",
          "height": 273
        }
      },
      "source": [
        "import random\n",
        "\n",
        "# Limite del conjunto\n",
        "training_set_size = 5000\n",
        "\n",
        "# Par de entrenamiento\n",
        "X = []\n",
        "Y = []\n",
        "\n",
        "# Generamos los nombres\n",
        "for n in range(training_set_size):\n",
        "    Y.append(' '.join([random.choice(name_words) for _ in range(2)]))\n",
        "\n",
        "# Creamos las correspondientes imagenes\n",
        "for name in Y:    \n",
        "    X.append(generateText(name))\n",
        "    \n",
        "# Comprobación\n",
        "print('Tamaño del conjunto de entrenamiento (X): ' + str(len(X)))\n",
        "print('Tamaño del conjunto de entrenamiento (Y): ' + str(len(Y)))\n",
        "    \n",
        "pyplot.imshow(X[0])\n",
        "print('')\n",
        "print(Y[0])"
      ],
      "execution_count": 0,
      "outputs": [
        {
          "output_type": "stream",
          "text": [
            "Tamaño del conjunto de entrenamiento (X): 5000\n",
            "Tamaño del conjunto de entrenamiento (Y): 5000\n",
            "\n",
            "Convair Hastings\n"
          ],
          "name": "stdout"
        },
        {
          "output_type": "display_data",
          "data": {
            "image/png": "[encoded data removed]",
            "text/plain": [
              "<matplotlib.figure.Figure at 0x7fcbe5ea9358>"
            ]
          },
          "metadata": {
            "tags": []
          }
        }
      ]
    },
    {
      "cell_type": "markdown",
      "metadata": {
        "id": "aszh5Mter-I5",
        "colab_type": "text"
      },
      "source": [
        "Vamos ahora a crear el modelo de red neuronal. Antes, necesitamos establecer las condiciones de las imágenes de entrada, ya que la red convolucional necesita unas dimensiones pre-establecidas para ser definida (¿seguro?).\n",
        "\n",
        "Con el objetivo de no distorsionar la letra, vamos a establecer un número de píxeles de altura fijos, y el ancho se hará acorde manteniendo la proporción."
      ]
    },
    {
      "cell_type": "code",
      "metadata": {
        "id": "oMB3SIBpsZlV",
        "colab_type": "code",
        "outputId": "a92ded80-54a2-4c9c-cd1f-0df4073812e8",
        "colab": {
          "base_uri": "https://localhost:8080/",
          "height": 220
        }
      },
      "source": [
        "# Función que rescala a una altura fija y mantiene la proporción ancho/alto\n",
        "def resize(image, height):\n",
        "    width = int(float(height * image.shape[1]) / image.shape[0])\n",
        "    sample_img = cv2.resize(image, (width, height))\n",
        "    return sample_img\n",
        "\n",
        "# Establecemos la altura a 40 píxeles\n",
        "img_height = 40\n",
        "  \n",
        "# Realizamos el rescalado para todas las imagenes\n",
        "for idx,image in enumerate(X):\n",
        "  X[idx] = resize(image,img_height)\n",
        "\n",
        "# Comprobación\n",
        "pyplot.imshow(X[0]) "
      ],
      "execution_count": 0,
      "outputs": [
        {
          "output_type": "execute_result",
          "data": {
            "text/plain": [
              "<matplotlib.image.AxesImage at 0x7fcbd6bf06d8>"
            ]
          },
          "metadata": {
            "tags": []
          },
          "execution_count": 42
        },
        {
          "output_type": "display_data",
          "data": {
            "image/png": "[encoded data removed]",
            "text/plain": [
              "<matplotlib.figure.Figure at 0x7fcbe5f313c8>"
            ]
          },
          "metadata": {
            "tags": []
          }
        }
      ]
    },
    {
      "cell_type": "markdown",
      "metadata": {
        "id": "QWZl0tFGtIn_",
        "colab_type": "text"
      },
      "source": [
        "Así pues, la red convolucional recibirá imagenes del alto establecido y el ancho máximo de entre todas las imágenes. Por lo tanto, necesitamos hacer *padding*: aquellas imagenes con un ancho real menor a este valor se rellenarán con valores nulos 0 en este caso."
      ]
    },
    {
      "cell_type": "code",
      "metadata": {
        "id": "R0p2Z4iptKbG",
        "colab_type": "code",
        "outputId": "af70284e-361a-4bd1-cb89-52c379cf9852",
        "colab": {
          "base_uri": "https://localhost:8080/",
          "height": 181
        }
      },
      "source": [
        "# Calculamos la anchura máxima\n",
        "max_image_len = max([image.shape[1] for image in X])\n",
        "\n",
        "# Creamos un único paquete de datos\n",
        "encoder_input = np.zeros((len(X),img_height,max_image_len), dtype=np.float)\n",
        "\n",
        "# Encajamos la imagen en su posición correspondiente\n",
        "for idx, image in enumerate(X):\n",
        "    encoder_input[idx][:,:image.shape[1]] = image  \n",
        "    \n",
        "# Comprobación\n",
        "pyplot.imshow(encoder_input[0]) "
      ],
      "execution_count": 0,
      "outputs": [
        {
          "output_type": "execute_result",
          "data": {
            "text/plain": [
              "<matplotlib.image.AxesImage at 0x7fcbd6bbcb38>"
            ]
          },
          "metadata": {
            "tags": []
          },
          "execution_count": 43
        },
        {
          "output_type": "display_data",
          "data": {
            "image/png": "[encoded data removed]",
            "text/plain": [
              "<matplotlib.figure.Figure at 0x7fcbe5cbc278>"
            ]
          },
          "metadata": {
            "tags": []
          }
        }
      ]
    },
    {
      "cell_type": "markdown",
      "metadata": {
        "id": "I25nxXHeNfXK",
        "colab_type": "text"
      },
      "source": [
        "El paquete de imágenes todavía no esta preparado para ser usado por Keras, ya que ahora mismo cada imagen solo tiene alto y ancho. Así pues, necesitamos asignarle un número de canales, en este caso 1 al ser en escala de grises. Para ello, basta con expandir el número de dimensiones, sin modificar en absoluto los valores de las matrices. \n",
        "\n",
        "Además, sobre estas imagenes, vamos a utilizar un pequeño truco que ayuda a la convergencia del proceso de aprendizaje: las imágenes, en lugar de mostrar valores entre 0 y 255 (niveles de gris), van a estar normalizadas entre 0 y 1."
      ]
    },
    {
      "cell_type": "code",
      "metadata": {
        "id": "1WA-TxlcNezt",
        "colab_type": "code",
        "outputId": "2e7ecbb0-826c-4359-816e-548544fe7e37",
        "colab": {
          "base_uri": "https://localhost:8080/",
          "height": 34
        }
      },
      "source": [
        "# Normalizamos los valores de los píxeles\n",
        "encoder_input = encoder_input / 255. \n",
        "\n",
        "# Expandimos la última dimension (alto,ancho) -> (alto,ancho,1)\n",
        "encoder_input = np.expand_dims(encoder_input, axis=-1)\n",
        "\n",
        "# Comprobación\n",
        "print(encoder_input.shape)\n"
      ],
      "execution_count": 0,
      "outputs": [
        {
          "output_type": "stream",
          "text": [
            "(5000, 40, 359, 1)\n"
          ],
          "name": "stdout"
        }
      ]
    },
    {
      "cell_type": "markdown",
      "metadata": {
        "id": "yhOh8OovsdVg",
        "colab_type": "text"
      },
      "source": [
        "Ahora es necesario preparar los datos de salida. En primer lugar, vamos a incluir los caracteres de inicio y final de frase, necesarios para el decoder.\n"
      ]
    },
    {
      "cell_type": "code",
      "metadata": {
        "id": "hfaHmjmPuj_W",
        "colab_type": "code",
        "outputId": "c6f9b93f-a391-45de-a61e-61380bb2c241",
        "colab": {
          "base_uri": "https://localhost:8080/",
          "height": 34
        }
      },
      "source": [
        "# Caracteres de comienzo y final  \n",
        "output_sos = '<'\n",
        "output_eos = '>'\n",
        "\n",
        "# Se añaden a todos los nombres\n",
        "Y = [output_sos + name + output_eos for name in Y]\n",
        "\n",
        "# Comprobación\n",
        "print(Y[0])"
      ],
      "execution_count": 0,
      "outputs": [
        {
          "output_type": "stream",
          "text": [
            "<Convair Hastings>\n"
          ],
          "name": "stdout"
        }
      ]
    },
    {
      "cell_type": "markdown",
      "metadata": {
        "id": "35rk-XXtubQf",
        "colab_type": "text"
      },
      "source": [
        "Para la parte del decoder (las letras reconocidas), también necesitamos fijar la longitud máxima de las secuencias, ya que vamos a realizar un único paquete de datos. Como ya hemos comentado, las redes recurrentes tienen la ventaja de adaptarse a anchos variables; sin embargo, los modelos se entrenan usando tensores, que deben tener unas dimensiones fijas."
      ]
    },
    {
      "cell_type": "code",
      "metadata": {
        "id": "Bia-olLTsrxX",
        "colab_type": "code",
        "outputId": "57222d06-5ced-4c01-d1d4-cbf848c144ee",
        "colab": {
          "base_uri": "https://localhost:8080/",
          "height": 54
        }
      },
      "source": [
        "# Conjuntos de caracteres y conversores\n",
        "alphabet = set()\n",
        "\n",
        "for name in Y:\n",
        "    alphabet.update(list(name))\n",
        "              \n",
        "alphabet_len = len(alphabet)    \n",
        "\n",
        "print('Hay un total de ' + str(alphabet_len) + ' caracteres: ' + str(alphabet))\n",
        "\n",
        "alphabet_from_char_to_int = dict([(char, i) for i, char in enumerate(alphabet)])\n",
        "alphabet_from_int_to_char = dict([(i, char) for i, char in enumerate(alphabet)])\n",
        "\n",
        "           "
      ],
      "execution_count": 0,
      "outputs": [
        {
          "output_type": "stream",
          "text": [
            "Hay un total de 57 caracteres: {'b', 'W', 'X', 'o', 'R', 'S', 'J', '.', 'w', 'Q', 'K', ' ', 'H', 'i', 'N', 'x', 'G', 'T', 'y', 'U', 'r', 'n', 'h', 'g', 'E', 'z', 'k', 'Z', '>', 'a', 'B', 'L', 'l', 'd', 'V', 'f', 'I', 'M', 'C', '<', \"'\", 't', 'v', 'P', 'm', 'D', 'e', 'p', 'q', 'F', 'j', 's', 'u', 'c', 'A', 'Y', 'O'}\n"
          ],
          "name": "stdout"
        }
      ]
    },
    {
      "cell_type": "markdown",
      "metadata": {
        "id": "Of6YDbHVOzno",
        "colab_type": "text"
      },
      "source": [
        "Creamos los paquetes de entrada y salida del decoder:"
      ]
    },
    {
      "cell_type": "code",
      "metadata": {
        "id": "SDvAoPdHO6ny",
        "colab_type": "code",
        "colab": {}
      },
      "source": [
        "max_output_len = max([len(name) for name in Y])\n",
        "\n",
        "decoder_input = np.zeros((len(Y),max_output_len,alphabet_len), dtype=np.float)\n",
        "decoder_output = np.zeros((len(Y),max_output_len,alphabet_len), dtype=np.float)\n",
        "\n",
        "for idx_s, output_sentence in enumerate(Y):        \n",
        "    for idx_c, char in enumerate(output_sentence):\n",
        "        decoder_input[idx_s][idx_c][alphabet_from_char_to_int[char]] = 1.\n",
        "        if idx_c > 0:\n",
        "            decoder_output[idx_s][idx_c-1][alphabet_from_char_to_int[char]] = 1.\n",
        "                     "
      ],
      "execution_count": 0,
      "outputs": []
    },
    {
      "cell_type": "markdown",
      "metadata": {
        "id": "Fb_RL1pjvCBd",
        "colab_type": "text"
      },
      "source": [
        "Ya tenemos nuestro paquete de datos formado por tres vectores (entrada del encoder, entrada del decoder y salida del decoder)."
      ]
    },
    {
      "cell_type": "code",
      "metadata": {
        "id": "TEzdg70dvKzu",
        "colab_type": "code",
        "outputId": "af0d0284-eec0-42c1-e0f6-845d8488058b",
        "colab": {
          "base_uri": "https://localhost:8080/",
          "height": 70
        }
      },
      "source": [
        "print ('Encoder input: ' + str(encoder_input.shape))\n",
        "print ('Decoder input: ' + str(decoder_input.shape))\n",
        "print ('Decoder output: ' + str(decoder_output.shape))"
      ],
      "execution_count": 0,
      "outputs": [
        {
          "output_type": "stream",
          "text": [
            "Encoder input: (5000, 40, 359, 1)\n",
            "Decoder input: (5000, 30, 57)\n",
            "Decoder output: (5000, 30, 57)\n"
          ],
          "name": "stdout"
        }
      ]
    },
    {
      "cell_type": "markdown",
      "metadata": {
        "id": "5WLL6xjYvr5M",
        "colab_type": "text"
      },
      "source": [
        "Definamos ahora una función que recibe los parámetros del problema y devuelve un modelo encoder (CNN) - decoder (RNN) ajustado a dichos parámetros."
      ]
    },
    {
      "cell_type": "code",
      "metadata": {
        "id": "xWTOOMfrvqzr",
        "colab_type": "code",
        "outputId": "83a1a35f-011d-4777-e2f8-e4f7575a6d67",
        "colab": {
          "base_uri": "https://localhost:8080/",
          "height": 638
        }
      },
      "source": [
        "from keras.layers import Input, Dense, Flatten\n",
        "from keras.layers.convolutional import Conv2D, MaxPooling2D\n",
        "from keras.layers.recurrent import LSTM\n",
        "from keras.models import Model\n",
        "from keras import backend as K\n",
        "\n",
        "def getmodel(img_height, img_width, alphabet_len):\n",
        "  # Pre-definimos los parámetros de la red convolucional\n",
        "  filters = [32, 64, 128]\n",
        "  w_pooling = [2,2,2]\n",
        "  h_pooling = [2,2,2]\n",
        "\n",
        "  # Comprobamos el formato de datos esperado\n",
        "  input_data = Input(name='input', shape=(img_height, img_width,1))\n",
        "\n",
        "\n",
        "  # Encoder como CNN de tres capas    \n",
        "  inner = Conv2D(filters[0], (3, 3), padding='same', activation='relu')(input_data)\n",
        "  inner = MaxPooling2D(pool_size=(h_pooling[0], w_pooling[0]))(inner)\n",
        "\n",
        "  inner = Conv2D(filters[1], (3, 3), padding='same', activation='relu')(inner)\n",
        "  inner = MaxPooling2D(pool_size=(h_pooling[1], w_pooling[1]))(inner)\n",
        "\n",
        "  inner = Conv2D(filters[2], (3, 3), padding='same', activation='relu')(inner)\n",
        "  inner = MaxPooling2D(pool_size=(h_pooling[2], w_pooling[2]))(inner)\n",
        "\n",
        "  # Conexion CNN con LSTM\n",
        "  x = Flatten()(inner)\n",
        "  h_0 = Dense(128, activation='tanh')(x)\n",
        "  c_0 = Dense(128, activation='tanh')(x)\n",
        "\n",
        "  initial_state = [h_0, c_0]\n",
        "\n",
        "  # Decoder como RNN\n",
        "  decoder_inputs = Input(shape=(None, alphabet_len))\n",
        "  decoder_outputs, _, _ = LSTM(128, return_sequences=True, return_state=True)(decoder_inputs, initial_state=initial_state)\n",
        "  decoder_dense = Dense(alphabet_len, activation='softmax')\n",
        "  decoder_outputs = decoder_dense(decoder_outputs)\n",
        "\n",
        "  # Creamos el modelo único\n",
        "  model = Model([input_data, decoder_inputs], decoder_outputs)\n",
        "  model.compile(optimizer='rmsprop', loss='categorical_crossentropy')   \n",
        "  model.summary()\n",
        "\n",
        "  return model\n",
        "\n",
        "# Extraemos los parámetros de los paquetes creados\n",
        "model = getmodel(encoder_input.shape[1],encoder_input.shape[2],alphabet_len)  "
      ],
      "execution_count": 0,
      "outputs": [
        {
          "output_type": "stream",
          "text": [
            "__________________________________________________________________________________________________\n",
            "Layer (type)                    Output Shape         Param #     Connected to                     \n",
            "==================================================================================================\n",
            "input (InputLayer)              (None, 40, 359, 1)   0                                            \n",
            "__________________________________________________________________________________________________\n",
            "conv2d_4 (Conv2D)               (None, 40, 359, 32)  320         input[0][0]                      \n",
            "__________________________________________________________________________________________________\n",
            "max_pooling2d_4 (MaxPooling2D)  (None, 20, 179, 32)  0           conv2d_4[0][0]                   \n",
            "__________________________________________________________________________________________________\n",
            "conv2d_5 (Conv2D)               (None, 20, 179, 64)  18496       max_pooling2d_4[0][0]            \n",
            "__________________________________________________________________________________________________\n",
            "max_pooling2d_5 (MaxPooling2D)  (None, 10, 89, 64)   0           conv2d_5[0][0]                   \n",
            "__________________________________________________________________________________________________\n",
            "conv2d_6 (Conv2D)               (None, 10, 89, 128)  73856       max_pooling2d_5[0][0]            \n",
            "__________________________________________________________________________________________________\n",
            "max_pooling2d_6 (MaxPooling2D)  (None, 5, 44, 128)   0           conv2d_6[0][0]                   \n",
            "__________________________________________________________________________________________________\n",
            "flatten_2 (Flatten)             (None, 28160)        0           max_pooling2d_6[0][0]            \n",
            "__________________________________________________________________________________________________\n",
            "input_2 (InputLayer)            (None, None, 57)     0                                            \n",
            "__________________________________________________________________________________________________\n",
            "dense_4 (Dense)                 (None, 128)          3604608     flatten_2[0][0]                  \n",
            "__________________________________________________________________________________________________\n",
            "dense_5 (Dense)                 (None, 128)          3604608     flatten_2[0][0]                  \n",
            "__________________________________________________________________________________________________\n",
            "lstm_2 (LSTM)                   [(None, None, 128),  95232       input_2[0][0]                    \n",
            "                                                                 dense_4[0][0]                    \n",
            "                                                                 dense_5[0][0]                    \n",
            "__________________________________________________________________________________________________\n",
            "dense_6 (Dense)                 (None, None, 57)     7353        lstm_2[0][0]                     \n",
            "==================================================================================================\n",
            "Total params: 7,404,473\n",
            "Trainable params: 7,404,473\n",
            "Non-trainable params: 0\n",
            "__________________________________________________________________________________________________\n"
          ],
          "name": "stdout"
        }
      ]
    },
    {
      "cell_type": "markdown",
      "metadata": {
        "id": "JD6epLfewr-K",
        "colab_type": "text"
      },
      "source": [
        "El modelo está listo para ser entrenado y evaluado. Antes, vamos a realizar una partición de los datos disponibles para entrenamiento y validación: 99% y 1% respectivamente."
      ]
    },
    {
      "cell_type": "code",
      "metadata": {
        "id": "Ygv0-sGswyYr",
        "colab_type": "code",
        "colab": {}
      },
      "source": [
        "val_split = 0.01\n",
        "idx_split = int(len(X)*val_split)\n",
        "\n",
        "# Conjunto de entrenamiento: paquetes codificados\n",
        "x_train = encoder_input[idx_split:]\n",
        "y_train = decoder_input[idx_split:]\n",
        "t_train = decoder_output[idx_split:]\n",
        "\n",
        "# Conjunto de validación: paquetes codificados + salida esperada\n",
        "x_val = encoder_input[:idx_split]\n",
        "y_val = decoder_input[:idx_split]\n",
        "t_val = decoder_output[:idx_split]\n",
        "i_val = Y[:idx_split]"
      ],
      "execution_count": 0,
      "outputs": []
    },
    {
      "cell_type": "markdown",
      "metadata": {
        "id": "9if7TfDXw5fq",
        "colab_type": "text"
      },
      "source": [
        "Entrenamos durante 15 épocas, monitorizando cuantitativamente por época (loss) y cualitativamente cada 3 épocas."
      ]
    },
    {
      "cell_type": "code",
      "metadata": {
        "id": "Egnkkf7dw8LS",
        "colab_type": "code",
        "outputId": "06bab61e-38d5-468f-cbb0-3567c1b4df11",
        "colab": {
          "base_uri": "https://localhost:8080/",
          "height": 1662
        }
      },
      "source": [
        "# Entrenamos durante 5 super-epocas\n",
        "for super_epoch in range(5):\n",
        "    print('Super-epoca: ' + str(super_epoch))\n",
        "    \n",
        "    # 3 épocas en cada iteración\n",
        "    model.fit([x_train, y_train], t_train, verbose=1, batch_size=16, epochs=3, validation_data=[[x_val,y_val], t_val])\n",
        "    \n",
        "    # Predecimos sobre el conjunto de validación\n",
        "    batch_prediction = model.predict([x_val,y_val],batch_size=16)\n",
        "    \n",
        "    # Comprobamos las 5 primeras imágenes\n",
        "    for idx,sentence_prediction in enumerate(batch_prediction[:5]):  \n",
        "        \n",
        "        raw_predicted_sequence = [alphabet_from_int_to_char[char] for char in np.argmax(sentence_prediction,axis=1)]\n",
        "        \n",
        "        predicted_sentence = output_sos          \n",
        "        for char in raw_predicted_sequence:\n",
        "            predicted_sentence += char\n",
        "            if char == output_eos:\n",
        "                break                    \n",
        "        \n",
        "        print( 'Predicción\\t: ' + str(predicted_sentence) )\n",
        "        print( 'Sal. esperada\\t: ' + str(i_val[idx]) )\n",
        "        print()\n",
        "        "
      ],
      "execution_count": 0,
      "outputs": [
        {
          "output_type": "stream",
          "text": [
            "Super-epoca: 0\n",
            "Train on 4950 samples, validate on 50 samples\n",
            "Epoch 1/3\n",
            "4950/4950 [==============================] - 192s 39ms/step - loss: 1.5632 - val_loss: 1.4728\n",
            "Epoch 2/3\n",
            "3696/4950 [=====================>........] - ETA: 48s - loss: 1.3687"
          ],
          "name": "stdout"
        },
        {
          "output_type": "stream",
          "text": [
            "4950/4950 [==============================] - 192s 39ms/step - loss: 1.3548 - val_loss: 1.3319\n",
            "Epoch 3/3\n",
            "4950/4950 [==============================] - 193s 39ms/step - loss: 1.2796 - val_loss: 1.3157\n",
            "Predicción\t: <Sareirn Aarton>\n",
            "Sal. esperada\t: <Convair Hastings>\n",
            "\n",
            "Predicción\t: <Marirarrd  Cono>\n",
            "Sal. esperada\t: <Luxembourg Rotarian>\n",
            "\n",
            "Predicción\t: <Marloean  Bair>\n",
            "Sal. esperada\t: <Boltzmann Frederick>\n",
            "\n",
            "Predicción\t: <Saore   Bania>\n",
            "Sal. esperada\t: <Ptolemy Norman>\n",
            "\n",
            "Predicción\t: <Sareoin   Barin>\n",
            "Sal. esperada\t: <Selfridge Mekong>\n",
            "\n",
            "Super-epoca: 1\n",
            "Train on 4950 samples, validate on 50 samples\n",
            "Epoch 1/3\n",
            " 944/4950 [====>.........................] - ETA: 2:34 - loss: 1.2632"
          ],
          "name": "stdout"
        },
        {
          "output_type": "stream",
          "text": [
            "4950/4950 [==============================] - 193s 39ms/step - loss: 1.2503 - val_loss: 1.2516\n",
            "Epoch 2/3\n",
            "4950/4950 [==============================] - 191s 39ms/step - loss: 1.2312 - val_loss: 1.2409\n",
            "Epoch 3/3\n",
            "1664/4950 [=========>....................] - ETA: 2:06 - loss: 1.2110"
          ],
          "name": "stdout"
        },
        {
          "output_type": "stream",
          "text": [
            "4950/4950 [==============================] - 191s 39ms/step - loss: 1.2144 - val_loss: 1.2239\n",
            "Predicción\t: <Caltinl Sarten>\n",
            "Sal. esperada\t: <Convair Hastings>\n",
            "\n",
            "Predicción\t: <Masinarrg  Monhnia>\n",
            "Sal. esperada\t: <Luxembourg Rotarian>\n",
            "\n",
            "Predicción\t: <Mrrdhaan  Crener>\n",
            "Sal. esperada\t: <Boltzmann Frederick>\n",
            "\n",
            "Predicción\t: <Caone   Sanian>\n",
            "Sal. esperada\t: <Ptolemy Norman>\n",
            "\n",
            "Predicción\t: <Calliid   Sarin>\n",
            "Sal. esperada\t: <Selfridge Mekong>\n",
            "\n",
            "Super-epoca: 2\n",
            "Train on 4950 samples, validate on 50 samples\n",
            "Epoch 1/3\n",
            "2368/4950 [=============>................] - ETA: 1:39 - loss: 1.1990"
          ],
          "name": "stdout"
        },
        {
          "output_type": "stream",
          "text": [
            "4950/4950 [==============================] - 191s 39ms/step - loss: 1.1940 - val_loss: 1.2181\n",
            "Epoch 2/3\n",
            "4950/4950 [==============================] - 191s 39ms/step - loss: 1.1839 - val_loss: 1.2298\n",
            "Epoch 3/3\n",
            "2016/4950 [===========>..................] - ETA: 1:52 - loss: 1.1722"
          ],
          "name": "stdout"
        },
        {
          "output_type": "stream",
          "text": [
            "4950/4950 [==============================] - 190s 38ms/step - loss: 1.1739 - val_loss: 1.2004\n",
            "Predicción\t: <Malnill Barton>\n",
            "Sal. esperada\t: <Convair Hastings>\n",
            "\n",
            "Predicción\t: <Manin erg  Monhnia>\n",
            "Sal. esperada\t: <Luxembourg Rotarian>\n",
            "\n",
            "Predicción\t: <Marlhaan  Bran>\n",
            "Sal. esperada\t: <Boltzmann Frederick>\n",
            "\n",
            "Predicción\t: <Maoll a Maraan>\n",
            "Sal. esperada\t: <Ptolemy Norman>\n",
            "\n",
            "Predicción\t: <Malloid   Barin>\n",
            "Sal. esperada\t: <Selfridge Mekong>\n",
            "\n",
            "Super-epoca: 3\n",
            "Train on 4950 samples, validate on 50 samples\n",
            "Epoch 1/3\n",
            "2416/4950 [=============>................] - ETA: 1:36 - loss: 1.1596"
          ],
          "name": "stdout"
        },
        {
          "output_type": "stream",
          "text": [
            "4950/4950 [==============================] - 187s 38ms/step - loss: 1.1611 - val_loss: 1.1915\n",
            "Epoch 2/3\n",
            "4950/4950 [==============================] - 196s 40ms/step - loss: 1.1477 - val_loss: 1.1886\n",
            "Epoch 3/3\n",
            "2032/4950 [===========>..................] - ETA: 1:57 - loss: 1.1307"
          ],
          "name": "stdout"
        },
        {
          "output_type": "stream",
          "text": [
            "4950/4950 [==============================] - 200s 40ms/step - loss: 1.1338 - val_loss: 1.1794\n",
            "Predicción\t: <Marnill Sarton>\n",
            "Sal. esperada\t: <Convair Hastings>\n",
            "\n",
            "Predicción\t: <Manin erg  Sooo>\n",
            "Sal. esperada\t: <Luxembourg Rotarian>\n",
            "\n",
            "Predicción\t: <Marlhaen  Cred>\n",
            "Sal. esperada\t: <Boltzmann Frederick>\n",
            "\n",
            "Predicción\t: <Maocesa Cawian>\n",
            "Sal. esperada\t: <Ptolemy Norman>\n",
            "\n",
            "Predicción\t: <Malaood e Barin>\n",
            "Sal. esperada\t: <Selfridge Mekong>\n",
            "\n",
            "Super-epoca: 4\n",
            "Train on 4950 samples, validate on 50 samples\n",
            "Epoch 1/3\n",
            "2432/4950 [=============>................] - ETA: 1:41 - loss: 1.1261"
          ],
          "name": "stdout"
        },
        {
          "output_type": "stream",
          "text": [
            "4950/4950 [==============================] - 199s 40ms/step - loss: 1.1216 - val_loss: 1.1705\n",
            "Epoch 2/3\n",
            "4950/4950 [==============================] - 200s 40ms/step - loss: 1.1085 - val_loss: 1.1716\n",
            "Epoch 3/3\n",
            " 256/4950 [>.............................] - ETA: 3:09 - loss: 1.0831"
          ],
          "name": "stdout"
        }
      ]
    },
    {
      "cell_type": "markdown",
      "metadata": {
        "id": "2lh-Foed4zXK",
        "colab_type": "text"
      },
      "source": [
        "## Ejercicio propuesto\n",
        "\n",
        "A modo de resumen de la sesión 3 al completo, y para afianzar los conocimiento adquiridos, se proponen los siguientes ejercicios sobre el código mostrado anteriormente:\n",
        "* Incorporar una red recurrente en la fase de encoding. \n",
        "* Crear generadores como los vistos en el ejemplo de traducción automática.\n",
        "* Realizar la predicción *en linea*.\n"
      ]
    }
  ]
}