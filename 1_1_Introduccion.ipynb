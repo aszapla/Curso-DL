{
  "nbformat": 4,
  "nbformat_minor": 0,
  "metadata": {
    "colab": {
      "name": "1.1-Introduccion.ipynb",
      "version": "0.3.2",
      "provenance": [],
      "collapsed_sections": [],
      "toc_visible": true,
      "include_colab_link": true
    },
    "kernelspec": {
      "display_name": "Python 3",
      "language": "python",
      "name": "python3"
    }
  },
  "cells": [
    {
      "cell_type": "markdown",
      "metadata": {
        "id": "view-in-github",
        "colab_type": "text"
      },
      "source": [
        "<a href=\"https://colab.research.google.com/github/aszapla/Curso-DL/blob/master/1_1_Introduccion.ipynb\" target=\"_parent\"><img src=\"https://colab.research.google.com/assets/colab-badge.svg\" alt=\"Open In Colab\"/></a>"
      ]
    },
    {
      "cell_type": "markdown",
      "metadata": {
        "id": "Dzf5ZuzTn2HA",
        "colab_type": "text"
      },
      "source": [
        "# 1.1 Introducción\n",
        "\n",
        "Profesor: Juan Ramón Rico (<juanramonrico@ua.es>)\n"
      ]
    },
    {
      "cell_type": "markdown",
      "metadata": {
        "id": "rYLQROQqpfk5",
        "colab_type": "text"
      },
      "source": [
        "---\n",
        "# Importante: antes de comenzar\n",
        "\n",
        "Para seguir este tutorial hay que acceder al menú `Archivo / Guadar una copia en Drive...`. Una vez guardada la copia en vuestro Drive ya se puede editar y modificar.\n",
        "\n",
        "---"
      ]
    },
    {
      "cell_type": "markdown",
      "metadata": {
        "id": "zP3Td5Cnetkv",
        "colab_type": "text"
      },
      "source": [
        "# Conceptos básicos"
      ]
    },
    {
      "cell_type": "markdown",
      "metadata": {
        "id": "g66xQ1Vxn2HI",
        "colab_type": "text"
      },
      "source": [
        "## De la Artificial Intelligence al Deep Learning\n",
        "\n",
        "Comenzaremos por el término más general y terminaremos con el más concreto.\n",
        "\n",
        "- [Artificial ingelligence](https://en.wikipedia.org/wiki/Artificial_intelligence) (AI): Es la inteligencia que se le asocia a las máquinas en contraste con la que puede desarrollar un ser vivo. Coloquialmente se les asocia funciones como aprender o resolver problemas.\n",
        "\n",
        "- [Machine Learning](https://en.wikipedia.org/wiki/Machine_learning) (ML): Es la rama de la AI que estudia técnicas que permitan aprender a los Ordenadores. Concreamente, se trata de crear programas capaces de generalizar comportamientos de ejemplos. Por lo tanto es un proceso de inducción del conocimiento.\n",
        "\n",
        "- [Deep Learning](https://en.wikipedia.org/wiki/Deep_learning) (DL): Es una evolución de técnicas de \n",
        "ML basadas en redes neuronales que han supuesto un avances en campos como el análisis de imágen, robótica, reconocimiento del habla, traducción automática, etc.\n",
        "\n",
        "<center>![](https://www.dlsi.ua.es/~juanra/UA/curso_verano_DL/images/ai-ml-dl.jpg)</center>\n"
      ]
    },
    {
      "cell_type": "markdown",
      "metadata": {
        "id": "VTN2jFakN8qk",
        "colab_type": "text"
      },
      "source": [
        "## Crecimiento de proyectos basados en Deep Learning en Google\n",
        "\n",
        "Para presentar de un forma gráfica el impacto de las técnicas basadas en Deep Learning presentamos se siguiente gráfico.\n",
        "\n",
        "<center>![](https://www.dlsi.ua.es/~juanra/UA/curso_verano_DL/images/DL-Google.jpg)</center>\n",
        "\n",
        "- Se puede observar el gran incremento de estas técnicas a partir de mediados del 2015;\n",
        "- El uso de estas técnicas se han extendido a otras grandes empresas y estamos en un periodo donde se comienzan a usar en pequeñas y medianas."
      ]
    },
    {
      "cell_type": "markdown",
      "metadata": {
        "id": "PM8YpfwO5tKf",
        "colab_type": "text"
      },
      "source": [
        "## Diferencias básicas entre la programación tradicional y el aprendizaje automático.\n",
        "\n",
        "<center>![](https://www.dlsi.ua.es/~juanra/UA/curso_verano_DL/images/programming_ML.svg)</center>"
      ]
    },
    {
      "cell_type": "markdown",
      "metadata": {
        "id": "292fXbUt_yUd",
        "colab_type": "text"
      },
      "source": [
        "## Aplicaciones del Machine Learning en la industria\n",
        "\n",
        "<center>![](https://www.dlsi.ua.es/~juanra/UA/curso_verano_DL/images/ML_applications.svg)</center>"
      ]
    },
    {
      "cell_type": "markdown",
      "metadata": {
        "id": "j0bgQEkrVSbm",
        "colab_type": "text"
      },
      "source": [
        "## Sistemas predictivos, presente y futuro\n",
        "\n",
        "<center>![](https://www.dlsi.ua.es/~juanra/UA/curso_verano_DL/images/AI-eye.jpg)</center>\n",
        "\n",
        "- Los sistemas predictivos están cambiando la forma en la que se abordan ciertos problemas y que cambiarán nuestro entorno. Algunos ejemplos:\n",
        "\n",
        "  - La **conducción autónoma** de una programación por casos (if/else) se hace inabordable mientras que con la imitación de un humano aprendiendo de su comportamiento es viable;\n",
        "\n",
        "  - **Traducción automática** de estar basada en reglas a aprender de textos traducidos por humanos;\n",
        "\n",
        "  - **Búsqueda de empleo** de emparejar currículum vitae con las demandas de empleo a predecir cuales serán los mejores candidatos para un trabajo aprendiendo de los emparejamientos previos.\n",
        "\n",
        "- Se puede decir que los datos son com una nueva fuente de energía;\n",
        "\n",
        "Charlas relacionadadas:\n",
        "\n",
        "- Encontramos más información en [**Prediction Machines: The Simple Economics of Artificial Intelligence**](https://www.youtube.com/watch?v=Q4o56nufXTw) que es una charla del profesor [Ajay Agrawal](https://agrawal.ca/) (fundador de [Creative Destruction Lab](https://www.creativedestructionlab.com/people/ajay-agrawal/) and co-fundador de AI/robotics company Kindred).\n",
        "\n",
        "- Por otro lado, el conocido [Andrew Ng](http://www.andrewng.org/) que trabaja en [Baidu](https://en.wikipedia.org/wiki/Baidu), [Universidad de Stanford](https://es.wikipedia.org/wiki/Universidad_Stanford) y co-fundador de [Coursera](https://www.coursera.org/) impartió esta charla, [**The State of Artificial Intelligence**](https://www.youtube.com/watch?v=NKpuX_yzdYs), para [The Artificial Intelligence Channel](https://www.youtube.com/channel/UC5g-f-g4EVRkqL8Xs888BLA) sobre el **impacto** de la  **inteligencia artificial** en la sociedad.\n"
      ]
    },
    {
      "cell_type": "markdown",
      "metadata": {
        "id": "0IbpEMnPn2HW",
        "colab_type": "text"
      },
      "source": [
        "# Uso de Python como lenguaje de programación"
      ]
    },
    {
      "cell_type": "markdown",
      "metadata": {
        "id": "tE_Bzup5n2Ha",
        "colab_type": "text"
      },
      "source": [
        "<center>![](https://www.dlsi.ua.es/~juanra/UA/curso_verano_DL/images/python-logo.svg)</center>\n",
        "\n",
        "## ¿Qué es Python?\n",
        "\n",
        "- *Python* es un lenguaje de programación interpretado y multiplataforma cuya sintaxis favorece un código legible.\n",
        "- Creado a finales de los ochenta por Guido van Rossum en el Centro para las Matemáticas y la Informática (CWI, Centrum Wiskunde & Informatica, Paises Bajos).\n",
        "- El nombre del lenguaje proviene de la afición de su creador por los humoristas británicos Monty Python.\n",
        "- Se trata de un lenguaje de programación multiparadigma: orientado a objetos, programación imperativa y programación funcional.\n",
        "- Se pueden crear módulos en C o C++ para acelerar la ejecución de los procesos.\n",
        "- Web principal <https://www.python.org/>\n"
      ]
    },
    {
      "cell_type": "markdown",
      "metadata": {
        "id": "KxXeiUrtn2Hg",
        "colab_type": "text"
      },
      "source": [
        "## Sus principales ventajas\n",
        "\n",
        "- Python Software Foundation License (software libre y código abierto).\n",
        "- Gracias al uso de paquetes se aplica en cálculo, álgebra líneal y simbólica, mantenimiento sistemas operativos, visualización de datos, estadística, Machine Learning y Deep Learning.\n",
        "- Tiene una comunidad muy activa y cada vez se puede aplicar a más ámbitos.\n",
        "- Se puede ejecutar en programas o en entornos interactivos paso a paso.\n",
        "- Fácil instalación y mantenimiento mediante gestores de paquetes como `pip` (bajo nivel) o `Anaconda` (avanzado y orientado a empresas <https://anaconda.org/>).\n",
        "- Se recomienda usar un editor sencillo y multiventana para facilitar su uso. Spyder (<https://github.com/spyder-ide/>)"
      ]
    },
    {
      "cell_type": "markdown",
      "metadata": {
        "id": "ULsgQcxRn2Hi",
        "colab_type": "text"
      },
      "source": [
        "# Comenzando con Python"
      ]
    },
    {
      "cell_type": "markdown",
      "metadata": {
        "id": "tSDoWsNfn2Hm",
        "colab_type": "text"
      },
      "source": [
        "## Instalar Python\n",
        "\n",
        "![](https://www.dlsi.ua.es/~juanra/UA/curso_verano_DL/images/Python_web.png)\n",
        "\n",
        "- Acceder a <https://www.python.org/>.\n",
        "- Descargar la última versión."
      ]
    },
    {
      "cell_type": "markdown",
      "metadata": {
        "id": "PGh1ElOqn2Ho",
        "colab_type": "text"
      },
      "source": [
        "## Preparando la instalación de paquetes. El entorno virtual.\n",
        "\n",
        "Para comenzar abrimos un terminal en el sistema operativo que usemos (Windows, Mac OSX, Linux).\n",
        "\n",
        "Vamos a crear un entorno virtual para facilitar la instalación local de paquetes.\n",
        "\n",
        "`python3.6 -m venv py36`\n",
        "\n",
        "`source ./py36/bin/activate`"
      ]
    },
    {
      "cell_type": "markdown",
      "metadata": {
        "id": "26LmKm8YV9y-",
        "colab_type": "text"
      },
      "source": [
        "Ahora vamos a instalar los paquetes básicos para seguir este curso:\n",
        "\n",
        "`pip install pip -U`\n",
        "\n",
        "`pip install jupyter`\n",
        "\n",
        "Nos desplazamos donde están los apuntes (ficheros `.ipynb`)\n",
        "\n",
        "`jupyter notebook`\n",
        "\n",
        "Cargamos el fichero actual `Introduccion.ipynb`"
      ]
    },
    {
      "cell_type": "markdown",
      "metadata": {
        "id": "Y7RrbCr8n2Hy",
        "colab_type": "text"
      },
      "source": [
        "## Uso alternativo con Google Colab (Drive)\n",
        "\n",
        "<center>![](https://www.dlsi.ua.es/~juanra/UA/curso_verano_DL/images/google_colab1.png)</center>\n",
        "\n",
        "[Google Colab](https://colab.research.google.com/) es un proyecto de investigación que quiere ayudar a promocionar el aprendizaje automático en ámbito de la educación y la investigación. Es un entorno similar al `Jupyter notebook` que no necesita de la instalación de programas para editar y ejercutar código, ya que se realizar en la nube.\n",
        "\n",
        "Colaboratory notebooks usa [Google Drive](https://drive.google.com) y permite compartir el documento como si fuera de texto (Docs) o de un libro de cálculo (Sheets). Colaboratory es de uso gratuito.\n",
        "\n",
        "Para más información, revisar [FAQ](https://research.google.com/colaboratory/faq.html)."
      ]
    },
    {
      "cell_type": "markdown",
      "metadata": {
        "id": "E3-6zF8On2H2",
        "colab_type": "text"
      },
      "source": [
        "### Cómo instalar paquetes adicionales\n",
        "Google Colab tiene instalados una serie de paquetes básicos:"
      ]
    },
    {
      "cell_type": "code",
      "metadata": {
        "id": "Y2Mv6TFWWT3u",
        "colab_type": "code",
        "colab": {}
      },
      "source": [
        "!pip list"
      ],
      "execution_count": 0,
      "outputs": []
    },
    {
      "cell_type": "markdown",
      "metadata": {
        "id": "CKy19YxMWMgn",
        "colab_type": "text"
      },
      "source": [
        " Si necesitamos instalar otros adicionales lo podemos hacer con:"
      ]
    },
    {
      "cell_type": "code",
      "metadata": {
        "id": "OVkZ5Yf8n2H4",
        "colab_type": "code",
        "colab": {}
      },
      "source": [
        "!pip install -q keras h5py sklearn"
      ],
      "execution_count": 0,
      "outputs": []
    },
    {
      "cell_type": "markdown",
      "metadata": {
        "id": "HVon2cKLf1Gv",
        "colab_type": "text"
      },
      "source": [
        "## Paquetes básicos y avanzados"
      ]
    },
    {
      "cell_type": "markdown",
      "metadata": {
        "id": "2-POuajGn2Ik",
        "colab_type": "text"
      },
      "source": [
        "### NumPy\n",
        "<center><img src=\"https://www.dlsi.ua.es/~juanra/UA/curso_verano_DL/images/numpy-logo.jpg\" height=\"100\"></center>\n",
        "\n",
        "Numpy permite el manejo de vectores de una forma fácil y eficiente, además muchos otros paquetes están construidos sobre éste.\n",
        "- Documentación <https://docs.scipy.org/doc/numpy/user/>\n",
        "- Tutorial de inicio rápido <https://docs.scipy.org/doc/numpy/user/quickstart.html>\n",
        "\n",
        "\n",
        "\n",
        "\n"
      ]
    },
    {
      "cell_type": "markdown",
      "metadata": {
        "id": "Z1ogVbd0fobu",
        "colab_type": "text"
      },
      "source": [
        "### Pandas\n",
        "<center><img src=\"https://www.dlsi.ua.es/~juanra/UA/curso_verano_DL/images/pandas-logo.png\" height=\"100\"></center>\n",
        "\n",
        "Pandas es un paquete de alto rendimiento para estructuras de datos tipo tabla, análisis y visualización de datos. Está construido sobre `NumPy` y `MatPlotLib`.\n",
        "- Documentación <https://pandas.pydata.org/pandas-docs/stable/>\n",
        "- Tutorial de inicio rápido <https://pandas.pydata.org/pandas-docs/stable/10min.html>    "
      ]
    },
    {
      "cell_type": "markdown",
      "metadata": {
        "id": "rw-3yv14fohm",
        "colab_type": "text"
      },
      "source": [
        "### Scikit-Learn\n",
        "\n",
        "<center><img src=\"https://www.dlsi.ua.es/~juanra/UA/curso_verano_DL/images/sklearn-logo.png\" height=\"100\"></center>\n",
        "  \n",
        "Scikit-Learn es el principal paquete de aprendizaje automático (Machine Learning) de propósito general en `Python`. Tiene gran cantidad de algoritmos y módulos para el pre-procesamiento, validación cruzada y ajuste de hiper-parámetros de modelos, clasificación/regresión, etc.\n",
        "- Documentación <http://scikit-learn.org/stable/documentation.html>\n",
        "- Tutorial de inicio rápido <http://elitedatascience.com/python-machine-learning-tutorial-scikit-learn>"
      ]
    },
    {
      "cell_type": "markdown",
      "metadata": {
        "id": "zZoDTyVSflbq",
        "colab_type": "text"
      },
      "source": [
        "### Keras\n",
        " <center><img src=\"https://www.dlsi.ua.es/~juanra/UA/curso_verano_DL/images/keras-logo.png\" height=\"100\"></center>\n",
        "\n",
        "Keras es un paquete que permite la creación y prueba de redes neuronales avanzadas (Deep Learning). Tiene una sintaxis sencilla que permite modelar rápido\n",
        "- Documentación <https://keras.io/>\n",
        "- Tutorial de inicio rápido <https://elitedatascience.com/keras-tutorial-deep-learning-in-python>    "
      ]
    },
    {
      "cell_type": "markdown",
      "metadata": {
        "id": "TqgtOsvxfi6O",
        "colab_type": "text"
      },
      "source": [
        "### MatPlotLib\n",
        "<center><img src=\"https://www.dlsi.ua.es/~juanra/UA/curso_verano_DL/images/matplotlib-logo.svg\" height=\"100\"></center>\n",
        "\n",
        "MatPlotLib es un paquete flexible de visualización de gráficos. Es potente pero algo difícil para usuarios nóveles.\n",
        "- Documentación <https://matplotlib.org/contents.html>\n",
        "- Tutorial de inicio rápido <https://matplotlib.org/users/pyplot_tutorial.html>"
      ]
    },
    {
      "cell_type": "markdown",
      "metadata": {
        "id": "Elmm45CTfF1C",
        "colab_type": "text"
      },
      "source": [
        "### Plotnine\n",
        "<center><img src=\"https://www.dlsi.ua.es/~juanra/UA/curso_verano_DL/images/plotnine-logo.png\" height=\"100\"></center>\n",
        "\n",
        "Plotnine es de recienbre creación y hace mucho más fácil visualizar los datos más comunes. Está construido sobre Matplotlib y ofrece facilidades de alto nivel (similar al paquete `ggplot2` de `R`).\n",
        "- Documentación <https://plotnine.readthedocs.io/en/stable/index.html>\n",
        "- Tutoriales de inicio rápido <https://plotnine.readthedocs.io/en/stable/tutorials.html>"
      ]
    },
    {
      "cell_type": "markdown",
      "metadata": {
        "id": "XQD4xTu6n2Io",
        "colab_type": "text"
      },
      "source": [
        "# Operaciones básicas"
      ]
    },
    {
      "cell_type": "markdown",
      "metadata": {
        "id": "pxJ41yD_S9vt",
        "colab_type": "text"
      },
      "source": [
        "Conocer con qué versión de Python estamos trabajando"
      ]
    },
    {
      "cell_type": "code",
      "metadata": {
        "id": "22WQ8kJHmcgT",
        "colab_type": "code",
        "colab": {}
      },
      "source": [
        "!python -V"
      ],
      "execution_count": 0,
      "outputs": []
    },
    {
      "cell_type": "markdown",
      "metadata": {
        "id": "4W_MIlu4aFAR",
        "colab_type": "text"
      },
      "source": [
        "## Suma y resta\n",
        "\n",
        "Vamos a practicar como si fuera una calculadora:\n",
        "\n",
        "| | | | | |\n",
        "|--|--|--|--|--|--\n",
        "| 2+2 | 2+float('inf') | float('inf')+float('inf') | 2-2 | 2-float('inf') | float('inf')-float('inf')"
      ]
    },
    {
      "cell_type": "code",
      "metadata": {
        "id": "FdMtfDWNn2Iq",
        "colab_type": "code",
        "colab": {}
      },
      "source": [
        "float('inf')-float('inf')"
      ],
      "execution_count": 0,
      "outputs": []
    },
    {
      "cell_type": "markdown",
      "metadata": {
        "id": "6M8TVi-gn2I-",
        "colab_type": "text"
      },
      "source": [
        "## Multiplicación y división\n",
        "\n",
        "| | | | | \n",
        "|--|--|--|--|--\n",
        "| 2*2 | 2*0 | 2*float('inf') | float('inf')*float('inf') | float('inf')*0\n",
        "| 0/0 | 0/2 | 2/0 | float('inf')/float('inf') | float('inf')/0 \n"
      ]
    },
    {
      "cell_type": "code",
      "metadata": {
        "id": "LBsdEYPfn2JG",
        "colab_type": "code",
        "colab": {}
      },
      "source": [
        "2*2"
      ],
      "execution_count": 0,
      "outputs": []
    },
    {
      "cell_type": "markdown",
      "metadata": {
        "id": "ZTfU0B6Gn2JS",
        "colab_type": "text"
      },
      "source": [
        "## Otras operaciones básicas\n",
        "\n",
        "### División entera y módulo\n",
        "\n",
        "`5 // 2`\n",
        "\n",
        "`5 % 2`\n",
        "\n",
        "### Exponentes\n",
        "\n",
        "`2**3`\n"
      ]
    },
    {
      "cell_type": "code",
      "metadata": {
        "id": "P7ZfhyTun2JW",
        "colab_type": "code",
        "colab": {}
      },
      "source": [
        "5//2"
      ],
      "execution_count": 0,
      "outputs": []
    },
    {
      "cell_type": "markdown",
      "metadata": {
        "id": "BrD_UiUFn2Jm",
        "colab_type": "text"
      },
      "source": [
        "## Características especiales de Python\n",
        "\n",
        "- *Python* al igual que *R* trabaja con números **nan** (Not a Number) no definidos o valores no disponibles **NA** (Not Available) en la operaciones y en sus **funciones**\n",
        "\n",
        "- La **mayoría** de lenguajes de programación habituales se detendrían y mostrarían un mensaje de **error**.\n",
        "\n",
        "`sum([2,3])\n",
        "sum(c(2,float('nan'))\n",
        "`\n",
        "\n",
        "- En apartados posteriores veremos como se trata la ausencia de datos.\n"
      ]
    },
    {
      "cell_type": "markdown",
      "metadata": {
        "id": "cDKn1foxn2Jq",
        "colab_type": "text"
      },
      "source": [
        "# Variables, tipos básicos, condiciones y bucles"
      ]
    },
    {
      "cell_type": "markdown",
      "metadata": {
        "id": "pUqAZWKfoVdY",
        "colab_type": "text"
      },
      "source": [
        "## Números\n",
        "\n",
        "- Se puede usar directamente como una **calculadora**.\n",
        "- Los **valores** o el **resultado** de las operaciones se puede guardar en **variables**."
      ]
    },
    {
      "cell_type": "code",
      "metadata": {
        "id": "T0nA_uUNn2Js",
        "colab_type": "code",
        "colab": {}
      },
      "source": [
        "a = 2*4+7-4\n",
        "print('a: {}'.format(a))\n",
        "\n",
        "b = 5/2+a\n",
        "print('b: {}'.format(b))\n",
        "\n",
        "c = 5//2+a\n",
        "print('c: {}'.format(c))\n"
      ],
      "execution_count": 0,
      "outputs": []
    },
    {
      "cell_type": "markdown",
      "metadata": {
        "id": "nteHGMs_lS2e",
        "colab_type": "text"
      },
      "source": [
        "## Caracteres"
      ]
    },
    {
      "cell_type": "code",
      "metadata": {
        "id": "9wSx5vbilWMI",
        "colab_type": "code",
        "colab": {}
      },
      "source": [
        "a = 'Ejemplo 1 con una comilla'\n",
        "print(a)\n",
        "\n",
        "b = \"Ejemplo 2 con doble comilla\"\n",
        "print(b)"
      ],
      "execution_count": 0,
      "outputs": []
    },
    {
      "cell_type": "markdown",
      "metadata": {
        "id": "IEf3gANvm5Ay",
        "colab_type": "text"
      },
      "source": [
        "## Listas"
      ]
    },
    {
      "cell_type": "code",
      "metadata": {
        "id": "AQk4pqX9m66a",
        "colab_type": "code",
        "colab": {}
      },
      "source": [
        "list = ['uno','dos','tres']\n",
        "\n",
        "for i in list:\n",
        "  print(i)\n",
        "  \n",
        "list.remove('uno')\n",
        "list.append('cuatro')\n",
        "\n",
        "for i in list:\n",
        "  print('new',i)"
      ],
      "execution_count": 0,
      "outputs": []
    },
    {
      "cell_type": "markdown",
      "metadata": {
        "id": "iz7t51FFpyH2",
        "colab_type": "text"
      },
      "source": [
        "## Conjuntos"
      ]
    },
    {
      "cell_type": "code",
      "metadata": {
        "id": "yatkxiVXpz-B",
        "colab_type": "code",
        "colab": {}
      },
      "source": [
        "lista = ['uno','dos','tres','tres']\n",
        "conjunto = set(lista)\n",
        "print(conjunto)\n",
        "\n",
        "print('\\'uno\\' pertenece al conjunto {}'.format('uno' in conjunto))\n",
        "print('\\'cuatro\\' pertenece al conjunto {}'.format('cuatro' in conjunto))"
      ],
      "execution_count": 0,
      "outputs": []
    },
    {
      "cell_type": "markdown",
      "metadata": {
        "id": "O6e0-LSkllxs",
        "colab_type": "text"
      },
      "source": [
        "## Diccionarios"
      ]
    },
    {
      "cell_type": "code",
      "metadata": {
        "id": "tHvdPzXsloym",
        "colab_type": "code",
        "colab": {}
      },
      "source": [
        "str2num = {'uno':1, 'dos':2, 'tres':3}\n",
        "num2str = { 1:'uno', 2:'dos', 3:'tres'}\n",
        "\n",
        "print('uno -> {}'.format(str2num['uno']))\n",
        "print('1 -> {}'.format(num2str[1]))\n",
        "\n",
        "print('Todos los items de str2num')\n",
        "for key, value in str2num.items():\n",
        "  print('\\t{} -> {}'.format(key, value))"
      ],
      "execution_count": 0,
      "outputs": []
    },
    {
      "cell_type": "code",
      "metadata": {
        "id": "-MDyLw3jmc_V",
        "colab_type": "code",
        "colab": {}
      },
      "source": [
        "# Accedemos a una clave que no existe usando el método 'get'\n",
        "\n",
        "print(str2num.get('cuatro'))"
      ],
      "execution_count": 0,
      "outputs": []
    },
    {
      "cell_type": "code",
      "metadata": {
        "id": "Dqzan6zrrxxv",
        "colab_type": "code",
        "colab": {}
      },
      "source": [
        "# Si accedemos a una clave que no existe usando con [] se produce un error\n",
        "\n",
        "try:\n",
        "  print(str2num['cuatro'])\n",
        "except KeyError:\n",
        "  print('La clave no existe')"
      ],
      "execution_count": 0,
      "outputs": []
    },
    {
      "cell_type": "markdown",
      "metadata": {
        "id": "Ks9RI5pGkHpt",
        "colab_type": "text"
      },
      "source": [
        "## Condiciones"
      ]
    },
    {
      "cell_type": "code",
      "metadata": {
        "id": "2ZMRddW5kKb0",
        "colab_type": "code",
        "colab": {}
      },
      "source": [
        "a = 1\n",
        "if a>1:\n",
        "  print('La variable \"a\" mayor que 1')\n",
        "else:\n",
        "  print('La variable \"a\" NO es mayor que 1')"
      ],
      "execution_count": 0,
      "outputs": []
    },
    {
      "cell_type": "code",
      "metadata": {
        "id": "DgmTLP-ZklFA",
        "colab_type": "code",
        "colab": {}
      },
      "source": [
        "a = 1\n",
        "b = 2\n",
        "if a>1 and b>1:\n",
        "  print('{} y {} son mayores que 1'.format(a,b))\n",
        "else:\n",
        "  print('{} y {} NO son mayores que 1'.format(a,b))"
      ],
      "execution_count": 0,
      "outputs": []
    },
    {
      "cell_type": "code",
      "metadata": {
        "id": "p7MVfc11lBCB",
        "colab_type": "code",
        "colab": {}
      },
      "source": [
        "a = 1\n",
        "b = 2\n",
        "if a>1 or b>1:\n",
        "  print('{} o {} es mayor que 1'.format(a,b))\n",
        "else:\n",
        "  print('Ni {}, ni {} son mayores que 1'.format(a,b))"
      ],
      "execution_count": 0,
      "outputs": []
    },
    {
      "cell_type": "markdown",
      "metadata": {
        "id": "2mA8YT2qtMF0",
        "colab_type": "text"
      },
      "source": [
        "## Bucles"
      ]
    },
    {
      "cell_type": "markdown",
      "metadata": {
        "id": "zxCxn9m4tQIQ",
        "colab_type": "text"
      },
      "source": [
        "### for"
      ]
    },
    {
      "cell_type": "code",
      "metadata": {
        "id": "OvP8-ZPHtRkf",
        "colab_type": "code",
        "colab": {}
      },
      "source": [
        "lista = ['uno','dos','tres','tres']\n",
        "for i in lista:\n",
        "  print(i)\n",
        "  \n",
        "for i in range(len(lista)):\n",
        "  print('{} {}'.format(i,lista[i]))"
      ],
      "execution_count": 0,
      "outputs": []
    },
    {
      "cell_type": "markdown",
      "metadata": {
        "id": "sNkiuXTbt3kQ",
        "colab_type": "text"
      },
      "source": [
        "### while"
      ]
    },
    {
      "cell_type": "code",
      "metadata": {
        "id": "zgHR5yW-t9FA",
        "colab_type": "code",
        "colab": {}
      },
      "source": [
        "i = 0\n",
        "while i < 5:\n",
        "    print(i)\n",
        "    i += 1"
      ],
      "execution_count": 0,
      "outputs": []
    },
    {
      "cell_type": "markdown",
      "metadata": {
        "id": "YxG9bRlY39YL",
        "colab_type": "text"
      },
      "source": [
        "---\n",
        "\n",
        "# Resumen"
      ]
    },
    {
      "cell_type": "markdown",
      "metadata": {
        "id": "H5ESNcU23_e-",
        "colab_type": "text"
      },
      "source": [
        "* Diferencias entre los conceptos de **Artificial Intelligence**, **Machine Learning** y **Deep Learning**.\n",
        "* Ejemplos de aplicaciones de Machine Learning en ámbitos empresariales.\n",
        "* Uso del lenguaje **Python** para el análisis de datos en general y para **Deep Learning** en particular.\n",
        "* Ejemplos básicos de **código** Python.\n",
        "\n"
      ]
    }
  ]
}