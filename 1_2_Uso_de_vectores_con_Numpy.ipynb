{
  "nbformat": 4,
  "nbformat_minor": 0,
  "metadata": {
    "colab": {
      "name": "1.2-Uso de vectores con Numpy.ipynb",
      "version": "0.3.2",
      "provenance": [],
      "collapsed_sections": [],
      "toc_visible": true,
      "include_colab_link": true
    },
    "kernelspec": {
      "display_name": "Python 3",
      "language": "python",
      "name": "python3"
    }
  },
  "cells": [
    {
      "cell_type": "markdown",
      "metadata": {
        "id": "view-in-github",
        "colab_type": "text"
      },
      "source": [
        "<a href=\"https://colab.research.google.com/github/aszapla/Curso-DL/blob/master/1_2_Uso_de_vectores_con_Numpy.ipynb\" target=\"_parent\"><img src=\"https://colab.research.google.com/assets/colab-badge.svg\" alt=\"Open In Colab\"/></a>"
      ]
    },
    {
      "cell_type": "markdown",
      "metadata": {
        "id": "Dzf5ZuzTn2HA",
        "colab_type": "text"
      },
      "source": [
        "<center><img src=\"https://www.dlsi.ua.es/~juanra/UA/curso_verano_DL/images/numpy-logo.jpg\" height=\"100\"></center>\n",
        "\n",
        "# 1.2 Uso de vectores con Numpy\n",
        "\n",
        "Profesor: Juan Ramón Rico (<juanramonrico@ua.es>)\n",
        "\n",
        "## Resumen\n",
        "---\n",
        "**NumPy** permite el manejo de vectores de un forma fácil y eficiente, además muchos otros paquetes están construidos sobre éste.\n",
        "- Documentación <https://docs.scipy.org/doc/numpy/user/>\n",
        "- Tutorial de inicio rápido <https://docs.scipy.org/doc/numpy/user/quickstart.html>\n",
        "\n",
        "---\n"
      ]
    },
    {
      "cell_type": "markdown",
      "metadata": {
        "id": "rDD0bMFNn2J2",
        "colab_type": "text"
      },
      "source": [
        "# Vectores con Numpy\n",
        "\n",
        "Para utilizar vectores y operaciones entre ellos es conveniente usar el paquete `NumPy`. Es muy rápido y eficiente usando la memoria.\n",
        "\n",
        "`pip install numpy`\n",
        "\n",
        "- Los vectores estarán compuestos por números o cadenas de caracteres para realizar operaciones"
      ]
    },
    {
      "cell_type": "markdown",
      "metadata": {
        "id": "Jdoqn2pLkNqh",
        "colab_type": "text"
      },
      "source": [
        "## Vectores (1D)"
      ]
    },
    {
      "cell_type": "code",
      "metadata": {
        "id": "Z7eOMZYmkNql",
        "colab_type": "code",
        "colab": {}
      },
      "source": [
        "import numpy as np\n",
        "\n",
        "a = np.array([1,2,3])\n",
        "print('Vector de enteros a: {}'.format(a))\n",
        "\n",
        "b = np.array(['buenos','días'])\n",
        "print('Vector de cadenas b: {}'.format(b))"
      ],
      "execution_count": 0,
      "outputs": []
    },
    {
      "cell_type": "markdown",
      "metadata": {
        "id": "_Uf4tBjPf14h",
        "colab_type": "text"
      },
      "source": [
        "### Acceso con de índices (Numpy)"
      ]
    },
    {
      "cell_type": "code",
      "metadata": {
        "id": "LwQXjGYqgN4P",
        "colab_type": "code",
        "colab": {}
      },
      "source": [
        "print('Vector completo a={}'.format(a))\n",
        "print('Acceso a una posición a[0]={}'.format(a[0]))\n",
        "print('Acceso desde el inicio hasta una posición a[:2]={}'.format(a[:2]))\n",
        "print('Acceso desde una posición hasta el final a[2:]={}'.format(a[2:]))\n",
        "print('Acceso desde una posición hasta otra a[1:2]={}'.format(a[1:2]))\n",
        "print('Acceso al último elemento a[-1]={}'.format(a[-1]))"
      ],
      "execution_count": 0,
      "outputs": []
    },
    {
      "cell_type": "markdown",
      "metadata": {
        "id": "WY2Zzr6qn2KI",
        "colab_type": "text"
      },
      "source": [
        "### Vectores numéricos"
      ]
    },
    {
      "cell_type": "code",
      "metadata": {
        "id": "zCSFCZ_qn2KK",
        "colab_type": "code",
        "colab": {}
      },
      "source": [
        "a = np.array([1,2,3])\n",
        "print('a+a: {}'.format(a+a))\n",
        "print('a*a: {}'.format(a*a))\n",
        "print('a/a: {}'.format(a/a))\n"
      ],
      "execution_count": 0,
      "outputs": []
    },
    {
      "cell_type": "markdown",
      "metadata": {
        "id": "PmRlI3IIn2Kw",
        "colab_type": "text"
      },
      "source": [
        "### Funciones sobre vectores numéricos"
      ]
    },
    {
      "cell_type": "code",
      "metadata": {
        "id": "JihnH5hrn2Ky",
        "colab_type": "code",
        "colab": {}
      },
      "source": [
        "a = np.array([1,2,3,4])\n",
        "print('a.sum: {}'.format(a.sum()))\n",
        "print('a.mean: {}'.format(a.mean()))\n",
        "print('a.std: {:.2f}'.format(a.std()))"
      ],
      "execution_count": 0,
      "outputs": []
    },
    {
      "cell_type": "markdown",
      "metadata": {
        "id": "reOl4Gnnn2K-",
        "colab_type": "text"
      },
      "source": [
        "Ayuda sobre las funciones:\n",
        "\n",
        "- `np.sum?`\n",
        "- `np.mean?`\n",
        "- `np.std?`"
      ]
    },
    {
      "cell_type": "code",
      "metadata": {
        "id": "5NT56le4n2LG",
        "colab_type": "code",
        "colab": {}
      },
      "source": [
        "# Probemos las siguientes instrucciones:\n",
        "\n",
        "np.random.seed(1000)\n",
        "\n",
        "vn100 = np.random.normal(size=100)\n",
        "vn100"
      ],
      "execution_count": 0,
      "outputs": []
    },
    {
      "cell_type": "markdown",
      "metadata": {
        "id": "0IWXygl6n2LY",
        "colab_type": "text"
      },
      "source": [
        "> **Nota:** La funcion `np.random.seed` se usa cuando queremos que los experimentos sean fielmente reproducibles sin variación. Se podría usar esta característica para impartir cursos y que los resultados no varíen, o bien, detectar errores en los cálculos. En otro caso se omite para que los números sean aleatorios (pseudo-aleatorios) y los experimentos contengan esta característica."
      ]
    },
    {
      "cell_type": "markdown",
      "metadata": {
        "id": "d3MC7JL-n2La",
        "colab_type": "text"
      },
      "source": [
        "## Vectores - Ejemplos con valores desconocidos (nan)\n",
        "\n",
        "### Por defecto"
      ]
    },
    {
      "cell_type": "code",
      "metadata": {
        "id": "sA-B2Vkkn2Lc",
        "colab_type": "code",
        "colab": {}
      },
      "source": [
        "a = np.array([1,2,float('nan')])\n",
        "print('a.sum: {}'.format(a.sum()))\n",
        "print('a.mean: {}'.format(a.mean()))\n",
        "print('a.std: {:.2f}'.format(a.std()))"
      ],
      "execution_count": 0,
      "outputs": []
    },
    {
      "cell_type": "markdown",
      "metadata": {
        "id": "xq4335Mdn2Lo",
        "colab_type": "text"
      },
      "source": [
        "### Teniendo en cuenta los números no definidos o indeterminados"
      ]
    },
    {
      "cell_type": "code",
      "metadata": {
        "id": "sThq8RXJn2Lo",
        "colab_type": "code",
        "colab": {}
      },
      "source": [
        "print('np.nansum(a): {}'.format(np.nansum(a)))\n",
        "print('np.nanmean(a): {}'.format(np.nanmean(a)))\n",
        "print('np.nanstd(a): {:.2f}'.format(np.nanstd(a)))"
      ],
      "execution_count": 0,
      "outputs": []
    },
    {
      "cell_type": "markdown",
      "metadata": {
        "id": "N-2Qjzuxn2Lu",
        "colab_type": "text"
      },
      "source": [
        "## Vectores - Ejemplos con caracteres"
      ]
    },
    {
      "cell_type": "code",
      "metadata": {
        "id": "mudHU3dGn2L4",
        "colab_type": "code",
        "colab": {}
      },
      "source": [
        "b = np.array([\"buenos\",\"días\"])\n",
        "print('b+b: {}'.format(np.core.defchararray.add(b, b)))\n",
        "print('\\'hola\\'*3: {}'.format('hola'*3))"
      ],
      "execution_count": 0,
      "outputs": []
    },
    {
      "cell_type": "markdown",
      "metadata": {
        "id": "jkoWYmqLn2MQ",
        "colab_type": "text"
      },
      "source": [
        "## Matrices (2D)\n",
        "\n",
        "Primero vamos a crear matrices de datos y más adelante las importaremos desde un fichero tipo de texto tipo **.csv** o (.xlsx/.xls**(Excel) que es lo más común.\n",
        "\n",
        "Creando y almacenando matrices"
      ]
    },
    {
      "cell_type": "code",
      "metadata": {
        "id": "s7dQRjM-n2MS",
        "colab_type": "code",
        "colab": {}
      },
      "source": [
        "mat1 = np.array([[1,2],[3,4],[5,6]])\n",
        "mat1"
      ],
      "execution_count": 0,
      "outputs": []
    },
    {
      "cell_type": "code",
      "metadata": {
        "id": "hBbF89YOoiJB",
        "colab_type": "code",
        "colab": {}
      },
      "source": [
        "# Tambien se puede realizar con...\n",
        "\n",
        "mat1 = np.arange(1,7).reshape((3,2))\n",
        "mat1"
      ],
      "execution_count": 0,
      "outputs": []
    },
    {
      "cell_type": "markdown",
      "metadata": {
        "id": "dbvLJfg-piuB",
        "colab_type": "text"
      },
      "source": [
        "**Ejercicio**: \n",
        "\n",
        "* Buscamos información sobre las funciones `arange` y `reshape`.\n",
        "* Exponemos en común para que sirve cada una."
      ]
    },
    {
      "cell_type": "code",
      "metadata": {
        "id": "u3aDYSQQn2MY",
        "colab_type": "code",
        "colab": {}
      },
      "source": [
        "mat2 = np.array([[1,2,3],[4,5,6]])\n",
        "mat2"
      ],
      "execution_count": 0,
      "outputs": []
    },
    {
      "cell_type": "code",
      "metadata": {
        "id": "MTTEz1Rqo6zs",
        "colab_type": "code",
        "colab": {}
      },
      "source": [
        "# De la misma forma que antes tambien se puede realizar con...\n",
        "\n",
        "mat2 = np.arange(1,7).reshape((2,3))\n",
        "mat2"
      ],
      "execution_count": 0,
      "outputs": []
    },
    {
      "cell_type": "code",
      "metadata": {
        "id": "NHrcl2FDn2Mc",
        "colab_type": "code",
        "colab": {}
      },
      "source": [
        "# Producto escalar\n",
        "\n",
        "mat1*mat1"
      ],
      "execution_count": 0,
      "outputs": []
    },
    {
      "cell_type": "code",
      "metadata": {
        "id": "UZEr287pn2Mi",
        "colab_type": "code",
        "colab": {}
      },
      "source": [
        "# Producto vectorial\n",
        "\n",
        "np.dot(mat1, mat2)"
      ],
      "execution_count": 0,
      "outputs": []
    },
    {
      "cell_type": "markdown",
      "metadata": {
        "id": "YxG9bRlY39YL",
        "colab_type": "text"
      },
      "source": [
        "---\n",
        "\n",
        "# Resumen"
      ]
    },
    {
      "cell_type": "markdown",
      "metadata": {
        "id": "H5ESNcU23_e-",
        "colab_type": "text"
      },
      "source": [
        "* **NumPy** como paquete básico de manipulación de datos vectoriales.\n",
        "* Estas estructuras nos servirán para cargar los datos en memoria, entrenar y evaluar algoritmos de **Machine Learning** o **Deep Learning**."
      ]
    }
  ]
}