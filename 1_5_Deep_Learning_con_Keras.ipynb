{
  "nbformat": 4,
  "nbformat_minor": 0,
  "metadata": {
    "colab": {
      "name": "1.5-Deep Learning con Keras.ipynb",
      "version": "0.3.2",
      "provenance": [],
      "collapsed_sections": [],
      "toc_visible": true,
      "include_colab_link": true
    },
    "kernelspec": {
      "name": "python3",
      "display_name": "Python 3"
    },
    "accelerator": "GPU"
  },
  "cells": [
    {
      "cell_type": "markdown",
      "metadata": {
        "id": "view-in-github",
        "colab_type": "text"
      },
      "source": [
        "<a href=\"https://colab.research.google.com/github/aszapla/Curso-DL/blob/master/1_5_Deep_Learning_con_Keras.ipynb\" target=\"_parent\"><img src=\"https://colab.research.google.com/assets/colab-badge.svg\" alt=\"Open In Colab\"/></a>"
      ]
    },
    {
      "cell_type": "markdown",
      "metadata": {
        "id": "NCT9SdRt1sv-",
        "colab_type": "text"
      },
      "source": [
        " <center><img src=\"https://www.dlsi.ua.es/~juanra/UA/curso_verano_DL/images/keras-logo.png\" height=\"100\"></center>\n",
        " \n",
        "# 1.5 Deep Learning con Keras \n",
        "\n",
        "Profesor: Juan Ramón Rico (<juanramonrico@ua.es>)\n",
        "\n",
        "Los ejemplos que se presentarán a continuación están basados en la documentación introductoria de [Keras](https://keras.io/).\n",
        "\n",
        "## Resumen\n",
        "---\n",
        "**Keras** es un paquete que permite la creación y prueba de redes neuronales avanzadas (Deep Learning). Tiene una sintaxis sencilla que permite modelar rápido\n",
        "- Documentación <https://keras.io/>\n",
        "- Tutorial de inicio rápido <https://elitedatascience.com/keras-tutorial-deep-learning-in-python>    \n",
        "---\n"
      ]
    },
    {
      "cell_type": "markdown",
      "metadata": {
        "id": "N5KtUOqHnl6o",
        "colab_type": "text"
      },
      "source": [
        "# Redes neuronales"
      ]
    },
    {
      "cell_type": "markdown",
      "metadata": {
        "id": "EaM9lJHXoAMe",
        "colab_type": "text"
      },
      "source": [
        "## Neurona de un ser vivo"
      ]
    },
    {
      "cell_type": "markdown",
      "metadata": {
        "id": "iC8JUESpoC8o",
        "colab_type": "text"
      },
      "source": [
        "<center><img src=\"https://www.dlsi.ua.es/~juanra/UA/curso_verano_DL/images/impulso_nervioso.gif\" height=\"300\"></center>\n"
      ]
    },
    {
      "cell_type": "markdown",
      "metadata": {
        "id": "qcivneyopT4D",
        "colab_type": "text"
      },
      "source": [
        "## Perceptrón multicapa\n",
        "\n",
        "Conocido normalmente por sus siglas en inglés MLP (Multilayer Perceptron)."
      ]
    },
    {
      "cell_type": "markdown",
      "metadata": {
        "id": "g_AFR1sbpW-3",
        "colab_type": "text"
      },
      "source": [
        "\n",
        "<center><img src=\"https://www.dlsi.ua.es/~juanra/UA/curso_verano_DL/images/mlp.png\" height=\"300\"></center>"
      ]
    },
    {
      "cell_type": "markdown",
      "metadata": {
        "id": "fHQv3hXenseP",
        "colab_type": "text"
      },
      "source": [
        "## Topologías"
      ]
    },
    {
      "cell_type": "markdown",
      "metadata": {
        "id": "4JP2DTlAnseS",
        "colab_type": "text"
      },
      "source": [
        "<center><img src=\"https://www.dlsi.ua.es/~juanra/UA/curso_verano_DL/images/ann_topologies.png\" ></center>"
      ]
    },
    {
      "cell_type": "markdown",
      "metadata": {
        "id": "VG9UX8e7mHrS",
        "colab_type": "text"
      },
      "source": [
        "## Cronología de aportaciones destacables en las redes neuronales"
      ]
    },
    {
      "cell_type": "markdown",
      "metadata": {
        "id": "h8XhAZ2CmHrZ",
        "colab_type": "text"
      },
      "source": [
        "<center><img src=\"https://www.dlsi.ua.es/~juanra/UA/curso_verano_DL/images/dl_timeline.png\" ></center>"
      ]
    },
    {
      "cell_type": "markdown",
      "metadata": {
        "id": "Fnf-_kCg02_P",
        "colab_type": "text"
      },
      "source": [
        "> [Geoffrey Hinton](https://en.wikipedia.org/wiki/Geoffrey_Hinton) (británico) psicólogo cognitivo e informático. Destaca por sus aportaciones en las redes neuronales artificiales desde los años 80 hasta la actualidad (MLP, back-propagation, Bolzmann Machine Net., Deep Belief Net., Dropout, Capsule Net.). Desde 2013 divide su tiempo trabajando para Google ([Google Brain](https://en.wikipedia.org/wiki/Google_Brain)) y la Universidad de Toronto.\n",
        "\n",
        " <center><img src=\"https://www.dlsi.ua.es/~juanra/UA/curso_verano_DL/images/hinton.png\"></center>"
      ]
    },
    {
      "cell_type": "markdown",
      "metadata": {
        "id": "4GfqTzSbdYh-",
        "colab_type": "text"
      },
      "source": [
        "# Keras"
      ]
    },
    {
      "cell_type": "markdown",
      "metadata": {
        "id": "Pfn9O9TdqL60",
        "colab_type": "text"
      },
      "source": [
        "[Keras](https://keras.io/) es una API de redes neuronales de alto nivel, escrita en Python y capaz de ejecutarse sobre [TensorFlow](https://www.tensorflow.org/) (Google), [CNTK ](https://www.microsoft.com/en-us/cognitive-toolkit/) (Microsoft) o [Theano](http://deeplearning.net/software/theano/) y próximamente en [MxNet](https://mxnet.incubator.apache.org/) (Amazon). Fue desarrollado con el objetivo de permitir una rápida experimentación. Poder pasar de la idea al resultado en el menor tiempo posible es clave para realizar una buena investigación.\n",
        "\n",
        "Utiliza Keras si necesitas una biblioteca de Deep Learning que:\n",
        "\n",
        "- Permite un prototipado fácil y rápido (a través de la facilidad de uso, modularidad y extensibilidad).\n",
        "- Soporte tanto redes convolucionales como redes recurrentes, así como combinaciones de ambas.\n",
        "- Se ejecute en la CPU y la GPU.\n",
        "\n",
        "Basado en los principios de:\n",
        "\n",
        "- **Facilidad de uso**  Keras es una API diseñada para seres humanos, no para máquinas. Pone la experiencia del usuario en primer plano. Keras sigue las mejores prácticas para reducir la carga cognitiva: ofrece APIs consistentes y simples, minimiza el número de acciones de usuario requeridas para casos de uso común, y proporciona una retroalimentación clara y procesable sobre el error del usuario.\n",
        "\n",
        "- **Modularidad**: Un modelo se entiende como una secuencia o un gráfico de módulos independientes, totalmente configurables, que pueden conectarse entre sí con las mínimas restricciones posibles. En particular, las capas neuronales, las funciones de coste, los optimizadores, los esquemas de inicialización, las funciones de activación y los esquemas de regularización son módulos independientes que puede combinar para crear nuevos modelos.\n",
        "\n",
        "- **Permite una extensión fácil**:  Los nuevos módulos son fáciles de añadir (como nuevas clases y funciones), y los módulos existentes proporcionan amplios ejemplos. El poder crear fácilmente nuevos módulos permite una expresividad total, haciendo que Keras sea adecuado para la investigación avanzada.\n",
        "\n",
        "- **Trabaja con Python**: No hay archivos de configuración de modelos separados en formato declarativo. Los modelos se describen en código Python, que es compacto, más de depurar y permite su extensión fácilmente."
      ]
    },
    {
      "cell_type": "markdown",
      "metadata": {
        "id": "s2NU5Fz85MBn",
        "colab_type": "text"
      },
      "source": [
        "# Ejemplos básicos"
      ]
    },
    {
      "cell_type": "markdown",
      "metadata": {
        "id": "LLcTc2twg3PX",
        "colab_type": "text"
      },
      "source": [
        "## Copiar los datos en Google Colab"
      ]
    },
    {
      "cell_type": "code",
      "metadata": {
        "id": "2XxIpWmleHQG",
        "colab_type": "code",
        "colab": {}
      },
      "source": [
        "# Hay que copiar los archivos de ejemplo\n",
        "!wget https://www.dlsi.ua.es/~juanra/UA/curso_verano_DL/data/basic_data.zip\n",
        "!unzip basic_data"
      ],
      "execution_count": 0,
      "outputs": []
    },
    {
      "cell_type": "markdown",
      "metadata": {
        "id": "ESZsaHFj2GgU",
        "colab_type": "text"
      },
      "source": [
        "## Crear y entrenar un modelo\n",
        "\n",
        "Los modelos de Keras se entrenan con matrices de datos de entrada y etiquetas de `Numpy` o tablas de datos de `Pandas`. Para entrenar un modelo se utiliza la función `fit` ([más información](https://keras.io/models/sequential/))."
      ]
    },
    {
      "cell_type": "markdown",
      "metadata": {
        "id": "KPFsPJLYa-D4",
        "colab_type": "text"
      },
      "source": [
        "En este primer ejemplo cargaremos un fichero de datos CSV con dos clases objetivo (si está enfermo o no) y entrenaremos un MLP con todos los datos."
      ]
    },
    {
      "cell_type": "markdown",
      "metadata": {
        "id": "2eaLhinE8r0w",
        "colab_type": "text"
      },
      "source": [
        "## MLP para clasificación binaria"
      ]
    },
    {
      "cell_type": "markdown",
      "metadata": {
        "id": "PW-4OLZE6gRh",
        "colab_type": "text"
      },
      "source": [
        "Este primer planteamiento simplemente es para comprobar si la implementación de nuestra red es correcta."
      ]
    },
    {
      "cell_type": "code",
      "metadata": {
        "id": "QjIoEDcM3B6x",
        "colab_type": "code",
        "colab": {}
      },
      "source": [
        "import pandas as pd\n",
        "from keras.models import Sequential\n",
        "from keras.layers import Dense\n",
        "\n",
        "# Clasificación binaria con el fichero 'diabetes_01.csv'\n",
        "data = pd.read_csv('./basic_data/diabetes_01.csv')\n",
        "for i in data.columns:\n",
        "  if (data[i].dtype == 'int64'):\n",
        "    data[i]= data[i].astype('int32')\n",
        "  if (data[i].dtype == 'float64'):\n",
        "    data[i]= data[i].astype('float32')\n",
        "\n",
        "# Selección de atributos y variable objetivo\n",
        "x = data.iloc[:,:-1]\n",
        "y = data.iloc[:,-1]\n",
        "\n",
        "# Para un modelo con una entrada de datos numéricos y para clasificar 2 clases (binary classification):\n",
        "model = Sequential()\n",
        "model.add(Dense(32, activation='relu', input_dim=x.shape[1]))\n",
        "model.add(Dense(1, activation='sigmoid'))\n",
        "model.compile(optimizer='sgd',\n",
        "              loss='binary_crossentropy',\n",
        "              metrics=['accuracy'])\n",
        "\n",
        "# Entrenar el modelo, iterando con los datos en grupos de 32 muestras\n",
        "model.fit(x, y, epochs=50, batch_size=32)"
      ],
      "execution_count": 0,
      "outputs": []
    },
    {
      "cell_type": "markdown",
      "metadata": {
        "id": "VisNBvjIbXHW",
        "colab_type": "text"
      },
      "source": [
        "En el ejemplo anterior se entrena sobre todos los datos disponibles con lo la tasa de aciertos  finales no sabemos si son fiables o no.\n",
        "\n",
        "Para ello, vamos a dividir los datos en un par de conjuntos para poder entrenar con uno y testear con el otro.\n",
        "\n",
        "Vamos a evitar el sobre-entrenamiento (overfitting) con una función llamada `Dropout` que se verá con detenimiento en siguiente sesión."
      ]
    },
    {
      "cell_type": "code",
      "metadata": {
        "id": "BiPBloWl8ukJ",
        "colab_type": "code",
        "colab": {}
      },
      "source": [
        "import pandas as pd\n",
        "from sklearn.model_selection import train_test_split\n",
        "from keras.models import Sequential\n",
        "from keras.layers import Dense, Dropout\n",
        "\n",
        "# Clasificación binaria con el fichero 'diabete_01.csv'\n",
        "data = pd.read_csv('./basic_data/diabetes_01.csv')\n",
        "\n",
        "pares = {'int64':'int32', 'float64':'float32'}\n",
        "for i in data.columns:\n",
        "  pareja = pares.get(str(data[i].dtype))\n",
        "  if pareja != None:\n",
        "    data[i]= data[i].astype(pareja)\n",
        "\n",
        "# Selección de atributos y variable objetivo\n",
        "x = data.iloc[:,:-1]\n",
        "y = data.iloc[:,-1]\n",
        "\n",
        "# Dividir los datos en entrenamiento y test\n",
        "x_train, x_test, y_train, y_test = train_test_split(x, y, test_size=.1, random_state=123)\n",
        "\n",
        "model = Sequential()\n",
        "model.add(Dense(16, input_dim=x_train.shape[1], activation='relu'))\n",
        "model.add(Dropout(0.25))\n",
        "model.add(Dense(16, activation='relu'))\n",
        "model.add(Dropout(0.5))\n",
        "model.add(Dense(1, activation='sigmoid'))\n",
        "\n",
        "model.compile(loss='binary_crossentropy',\n",
        "              optimizer='sgd',\n",
        "              metrics=['accuracy'])\n",
        "\n",
        "model.fit(x_train, y_train, epochs=50, batch_size=32)\n",
        "loss, accuracy = model.evaluate(x_test, y_test, batch_size=32)\n",
        "print('Test accuracy {}'.format(accuracy))"
      ],
      "execution_count": 0,
      "outputs": []
    },
    {
      "cell_type": "markdown",
      "metadata": {
        "id": "nRQV2yqj68uf",
        "colab_type": "text"
      },
      "source": [
        "## Clasificación con Multilayer Perceptron (MLP) para diversas clases (softmax):"
      ]
    },
    {
      "cell_type": "markdown",
      "metadata": {
        "id": "0bV_EbUbbrjg",
        "colab_type": "text"
      },
      "source": [
        "* Ahora vamos a trabajar de nuevo sobre el conjunto de datos llamado [Iris](https://en.wikipedia.org/wiki/Iris_flower_data_set).\n",
        "\n",
        "* Además tenemos tres categorias (iris-setosa, iris-virginica e iris-versicolor) que convertiremos a identificadores (0, 1 y 2) con `LabelEncoder`;\n",
        "\n",
        "* Las categorías en redes necesitan una codificación binaria excluyente llamada **one hot**, es decir, la representación sería 0 (1,0,0), 1 (0,1,0) y 2 (0,0,1).\n",
        "\n",
        "* En esta ocasión también crearemos un par de conjuntos disjuntos; uno para entrenar y el otro para testear los resultados.\n",
        "\n"
      ]
    },
    {
      "cell_type": "code",
      "metadata": {
        "id": "1Fyhj6aa661q",
        "colab_type": "code",
        "outputId": "175d79ff-3d21-465f-d6a3-82847ef3c6c1",
        "colab": {
          "base_uri": "https://localhost:8080/",
          "height": 811
        }
      },
      "source": [
        "import pandas as pd\n",
        "from sklearn.model_selection import train_test_split\n",
        "from sklearn.preprocessing import LabelEncoder\n",
        "\n",
        "import keras\n",
        "from keras.models import Sequential\n",
        "from keras.layers import Dense, Dropout, Activation\n",
        "from keras.optimizers import SGD\n",
        "from keras.utils import to_categorical\n",
        "\n",
        "# Clasificación múltiple con el fichero 'iris.csv'\n",
        "label_enc = LabelEncoder()\n",
        "data = pd.read_csv('./basic_data/iris.csv')\n",
        "x = data.iloc[:,:-1]\n",
        "y = label_enc.fit_transform(data.iloc[:,-1])\n",
        "\n",
        "# Dividir los datos en entrenamiento y test\n",
        "x_train, x_test, y_train, y_test = train_test_split(x, y, test_size=.1, random_state=123)\n",
        "y_train = to_categorical(y_train)\n",
        "y_test = to_categorical(y_test)\n",
        "\n",
        "model = Sequential()\n",
        "# Dense(64) es una capa de conexión completa con 64 neuronas ocultas.\n",
        "# en la primera capa se tiene que especificar la dimensión de la entrada de datos.\n",
        "model.add(Dense(64, activation='relu', input_dim=x_train.shape[1]))\n",
        "model.add(Dropout(0.5))\n",
        "model.add(Dense(64, activation='relu'))\n",
        "model.add(Dropout(0.5))\n",
        "model.add(Dense(3, activation='softmax')) # Número de clases finales\n",
        "\n",
        "sgd = SGD(lr=0.01, decay=1e-6, momentum=0.9, nesterov=True)\n",
        "model.compile(loss='categorical_crossentropy',\n",
        "              optimizer=sgd,\n",
        "              metrics=['accuracy'])\n",
        "\n",
        "model.fit(x_train, y_train, epochs=20, batch_size=32)\n",
        "loss, accuracy = model.evaluate(x_test, y_test, batch_size=32)\n",
        "print('Test accuracy {}'.format(accuracy))"
      ],
      "execution_count": 0,
      "outputs": [
        {
          "output_type": "stream",
          "text": [
            "WARNING:tensorflow:Variable *= will be deprecated. Use variable.assign_mul if you want assignment to the variable value or 'x = x * y' if you want a new python Tensor object.\n",
            "Epoch 1/20\n",
            "135/135 [==============================] - 1s 8ms/step - loss: 1.6758 - acc: 0.3407\n",
            "Epoch 2/20\n",
            "135/135 [==============================] - 0s 211us/step - loss: 1.2516 - acc: 0.3630\n",
            "Epoch 3/20\n",
            "135/135 [==============================] - 0s 184us/step - loss: 0.9786 - acc: 0.5333\n",
            "Epoch 4/20\n",
            "135/135 [==============================] - 0s 175us/step - loss: 0.8149 - acc: 0.6148\n",
            "Epoch 5/20\n",
            "135/135 [==============================] - 0s 185us/step - loss: 0.7768 - acc: 0.6148\n",
            "Epoch 6/20\n",
            "135/135 [==============================] - 0s 186us/step - loss: 0.6363 - acc: 0.6889\n",
            "Epoch 7/20\n",
            "135/135 [==============================] - 0s 184us/step - loss: 0.5730 - acc: 0.7259\n",
            "Epoch 8/20\n",
            "135/135 [==============================] - 0s 189us/step - loss: 0.5829 - acc: 0.7333\n",
            "Epoch 9/20\n",
            "135/135 [==============================] - 0s 190us/step - loss: 0.6504 - acc: 0.6370\n",
            "Epoch 10/20\n",
            "135/135 [==============================] - 0s 213us/step - loss: 0.5268 - acc: 0.6815\n",
            "Epoch 11/20\n",
            "135/135 [==============================] - 0s 200us/step - loss: 0.4999 - acc: 0.6963\n",
            "Epoch 12/20\n",
            "135/135 [==============================] - 0s 195us/step - loss: 0.5254 - acc: 0.7185\n",
            "Epoch 13/20\n",
            "135/135 [==============================] - 0s 189us/step - loss: 0.4883 - acc: 0.7630\n",
            "Epoch 14/20\n",
            "135/135 [==============================] - 0s 198us/step - loss: 0.5020 - acc: 0.7926\n",
            "Epoch 15/20\n",
            "135/135 [==============================] - 0s 202us/step - loss: 0.4918 - acc: 0.7185\n",
            "Epoch 16/20\n",
            "135/135 [==============================] - 0s 196us/step - loss: 0.4480 - acc: 0.7704\n",
            "Epoch 17/20\n",
            "135/135 [==============================] - 0s 213us/step - loss: 0.3806 - acc: 0.8815\n",
            "Epoch 18/20\n",
            "135/135 [==============================] - 0s 227us/step - loss: 0.4119 - acc: 0.7704\n",
            "Epoch 19/20\n",
            "135/135 [==============================] - 0s 204us/step - loss: 0.4359 - acc: 0.8148\n",
            "Epoch 20/20\n",
            "135/135 [==============================] - 0s 191us/step - loss: 0.4319 - acc: 0.8296\n",
            "15/15 [==============================] - 0s 2ms/step\n",
            "Test accuracy 0.8666666746139526\n"
          ],
          "name": "stdout"
        }
      ]
    },
    {
      "cell_type": "markdown",
      "metadata": {
        "id": "2l3bYsU--eOl",
        "colab_type": "text"
      },
      "source": [
        "**Ejercicio**: Probar con el valor de `SGD` por defecto.\n",
        "\n",
        "¿Qué ocurre?"
      ]
    },
    {
      "cell_type": "markdown",
      "metadata": {
        "id": "kEh6b3q524sD",
        "colab_type": "text"
      },
      "source": [
        "## MLP para regresión"
      ]
    },
    {
      "cell_type": "markdown",
      "metadata": {
        "id": "18NGURmn3Gql",
        "colab_type": "text"
      },
      "source": [
        "Vamos a mostrar un ejemplo para calcular un valor final. Nos basaremos en el conjunto de datos de `Boston House Prices` incluida en el paquete `sklearn`."
      ]
    },
    {
      "cell_type": "code",
      "metadata": {
        "id": "J6pIkzFW3mPR",
        "colab_type": "code",
        "colab": {}
      },
      "source": [
        "from sklearn.datasets import load_boston\n",
        "from sklearn.model_selection import train_test_split\n",
        "\n",
        "boston = load_boston()\n",
        "boston_x, boston_y = boston.data.astype('float32'), boston.target.astype('float32')\n",
        "print(boston.DESCR)\n",
        "\n",
        "x_train, x_test, y_train, y_test = train_test_split(boston_x, boston_y, test_size=0.1, random_state=123)"
      ],
      "execution_count": 0,
      "outputs": []
    },
    {
      "cell_type": "markdown",
      "metadata": {
        "id": "F9kzXZvPhq5L",
        "colab_type": "text"
      },
      "source": [
        "### Prueba con entrenamiento y test"
      ]
    },
    {
      "cell_type": "markdown",
      "metadata": {
        "id": "zuzw4fd7iDiM",
        "colab_type": "text"
      },
      "source": [
        "Para esta prueba necesitamos escalar los diferentes indicadores, ya que tienen diferentes rangos de valores (`StandardScaler`)."
      ]
    },
    {
      "cell_type": "code",
      "metadata": {
        "id": "S8cfrFQz3BXT",
        "colab_type": "code",
        "colab": {}
      },
      "source": [
        "import numpy as np\n",
        "import sklearn as sk\n",
        "from keras.models import Sequential\n",
        "from keras.layers import Dense, Dropout\n",
        "from sklearn.preprocessing import StandardScaler\n",
        "\n",
        "# Para un modelo para calcular una regresión\n",
        "def build_mlp_reg():\n",
        "  model = Sequential()\n",
        "  model.add(Dense(32, activation='relu', kernel_initializer='normal', input_dim=x_train.shape[1]))\n",
        "  model.add(Dense(1, kernel_initializer='normal'))\n",
        "  model.compile(optimizer='adam', loss='mean_absolute_error')\n",
        "  \n",
        "  return model\n",
        "\n",
        "# Necesitamos ajustar los rangos de las entradas (x) y las salidas (y)\n",
        "x_scaler = StandardScaler()\n",
        "y_scaler = StandardScaler()\n",
        "\n",
        "x_train_scaler, y_train_scaler = x_scaler.fit_transform(x_train), y_scaler.fit_transform(y_train.reshape(-1,1))\n",
        "x_test_scaler, y_test_scaler = x_scaler.fit_transform(x_test), y_scaler.fit_transform(y_test.reshape(-1,1))\n",
        "\n",
        "# Construir el modelo\n",
        "model = build_mlp_reg()\n",
        "\n",
        "# Entrenar el modelo, iterando con los datos en grupos de 8 muestras\n",
        "model.fit(x_train_scaler, y_train_scaler, epochs=100, batch_size=8)\n",
        "\n",
        "# Probar el conjunto de test\n",
        "y_pred = y_scaler.inverse_transform(model.predict(x_test_scaler))\n",
        "score = sk.metrics.mean_absolute_error(y_test, y_pred)\n",
        "print('mean absolute error: {:.2f}'.format(score))\n",
        "\n",
        "# Suponemos que queremos predecir una nueva muestra\n",
        "print(boston.feature_names)\n",
        "x_new = np.array([x_test_scaler[-1]]) # Última muestra de test\n",
        "print('Características: {}'.format(x_new[0]))\n",
        "print('Predicción: {}'.format(y_scaler.inverse_transform(model.predict(x_new))[0]))\n",
        "print('Valor real: {}'.format(y_test[-1]))"
      ],
      "execution_count": 0,
      "outputs": []
    },
    {
      "cell_type": "markdown",
      "metadata": {
        "id": "kmhriloIhv1-",
        "colab_type": "text"
      },
      "source": [
        "### Validación cruzada"
      ]
    },
    {
      "cell_type": "markdown",
      "metadata": {
        "id": "bArocuhn4Mdw",
        "colab_type": "text"
      },
      "source": [
        "Vamos a comparar los resultados de esta regresión MLP usando una validación cruzada de 10 con los resultados del tema previo.\n",
        "\n",
        "Usaremos el método `KerasRegressor` para comunicar los modelos de `Keras` con la utilidades de `sklearn`."
      ]
    },
    {
      "cell_type": "code",
      "metadata": {
        "id": "XQ-vONFY4Klx",
        "colab_type": "code",
        "colab": {}
      },
      "source": [
        "%%capture --no-stdout\n",
        "from keras.wrappers.scikit_learn import KerasRegressor\n",
        "from sklearn.pipeline import Pipeline\n",
        "from sklearn.model_selection import cross_val_score\n",
        "from sklearn.model_selection import KFold\n",
        "from sklearn.preprocessing import StandardScaler\n",
        "\n",
        "name='mlp'\n",
        "estimators = []\n",
        "estimators.append(('standardize', StandardScaler()))\n",
        "estimators.append(('mlp', KerasRegressor(build_fn=build_mlp_reg, epochs=100, batch_size=8, verbose=0)))\n",
        "pipeline = Pipeline(estimators)\n",
        "cv = KFold(n_splits=10, random_state=123)  \n",
        "results = -np.round(cross_val_score(pipeline, boston_x, boston_y, scoring='mean_absolute_error', cv=cv),2)\n",
        "print('{:20s} media: {:.02} resultados: {}'.format(name,results.mean(), results))"
      ],
      "execution_count": 0,
      "outputs": []
    },
    {
      "cell_type": "markdown",
      "metadata": {
        "id": "dFh79r_T5evo",
        "colab_type": "text"
      },
      "source": [
        "# Ejemplos avanzados\n",
        "\n",
        "En este enlace, <https://github.com/keras-team/keras/tree/master/examples>, tenemos más ejemplos completos para comenzar con conjuntos de datos reales:\n",
        "\n",
        "- CIFAR10 clasificación de imágenes: Convolutional Neural Network (CNN) con aumentado de datos en tiempo real;\n",
        "- IMDB clasificación de comentarios sobre películas según su sentimiento (positivos/negativo): LSTM sobre secuencias de palabras;\n",
        "- Reuters clasificación sobre características de noticias: Multilayer Perceptron (MLP)\n",
        "- MNIST clasificación de dígios manuscritos aislados: MLP & CNN;\n",
        "- Generación de texto a nivel de carácter redes tipo LSTM\n"
      ]
    },
    {
      "cell_type": "markdown",
      "metadata": {
        "id": "FHrG5RMyG5vR",
        "colab_type": "text"
      },
      "source": [
        "## Capas de atención para un MLP:"
      ]
    },
    {
      "cell_type": "markdown",
      "metadata": {
        "id": "AXdty-C4G5vV",
        "colab_type": "text"
      },
      "source": [
        "* Como en el apartado anterior vamos a trabajar sobre el conjunto de datos llamado [Iris](https://en.wikipedia.org/wiki/Iris_flower_data_set).\n",
        "\n",
        "* Además tenemos tres categorias (iris-setosa, iris-virginica e iris-versicolor) que convertiremos a identificadores (0, 1 y 2) con `LabelEncoder`;\n",
        "\n",
        "* Las categorías en redes necesitan una codificación binaria excluyente llamada **one hot**, es decir, la representación sería 0 (1,0,0), 1 (0,1,0) y 2 (0,0,1).\n",
        "\n",
        "* Vamos a crear una capa de atención y vamos a visualizar lo que aprende.\n",
        "\n"
      ]
    },
    {
      "cell_type": "code",
      "metadata": {
        "id": "F4jLTigUG5vW",
        "colab_type": "code",
        "colab": {}
      },
      "source": [
        "import numpy as np\n",
        "import pandas as pd\n",
        "from sklearn.model_selection import train_test_split\n",
        "from sklearn.preprocessing import LabelEncoder\n",
        "\n",
        "import keras\n",
        "from keras.models import Model\n",
        "from keras.layers import Input, Dense, Multiply\n",
        "from keras.utils import to_categorical\n",
        "\n",
        "def build_model(input_dim):\n",
        "    inputs = Input(shape=(input_dim,))\n",
        "\n",
        "    # La parte de atención comienza aquí\n",
        "    attention_probs = Dense(input_dim, activation='softmax', name='attention_vec')(inputs)\n",
        "    attention_mul = Multiply(name='attention_mul')([inputs, attention_probs])\n",
        "    # La parte de atención finaliza aquí\n",
        "\n",
        "    attention_mul = Dense(64)(attention_mul)\n",
        "    output = Dense(3, activation='softmax')(attention_mul) # 3 el número de clases\n",
        "    model = Model(input=[inputs], output=output)\n",
        "    \n",
        "    model.compile(loss='categorical_crossentropy', optimizer='adam', metrics=['accuracy'])\n",
        "\n",
        "    return model\n",
        "\n",
        "# Clasificación múltiple con el fichero 'iris.csv'\n",
        "label_enc = LabelEncoder()\n",
        "data = pd.read_csv('./basic_data/iris.csv')\n",
        "x = data.iloc[:,:-1]\n",
        "y = label_enc.fit_transform(data.iloc[:,-1])\n",
        "\n",
        "# Dividir los datos en entrenamiento y test\n",
        "x_train, x_test, y_train, y_test = train_test_split(x, y, test_size=.1, random_state=123)\n",
        "y_train = to_categorical(y_train)\n",
        "y_test = to_categorical(y_test)\n",
        "\n",
        "model = build_model(x_train.shape[1]) # Tamaño de la entrada\n",
        "\n",
        "model.fit(x_train, y_train, epochs=50, batch_size=32)\n",
        "loss, accuracy = model.evaluate(x_test, y_test, batch_size=32)\n",
        "print('Test accuracy {}'.format(accuracy))"
      ],
      "execution_count": 0,
      "outputs": []
    },
    {
      "cell_type": "code",
      "metadata": {
        "id": "FO-l6A2uR9Yt",
        "colab_type": "code",
        "outputId": "a0a7acb8-e903-43b2-c87c-2b592c6ae6f4",
        "colab": {
          "base_uri": "https://localhost:8080/",
          "height": 380
        }
      },
      "source": [
        "data.plot.scatter(x='sepallength', y='sepalwidth', c=y, s=25+y*50)"
      ],
      "execution_count": 0,
      "outputs": [
        {
          "output_type": "execute_result",
          "data": {
            "text/plain": [
              "<matplotlib.axes._subplots.AxesSubplot at 0x7fa594e9b198>"
            ]
          },
          "metadata": {
            "tags": []
          },
          "execution_count": 52
        },
        {
          "output_type": "display_data",
          "data": {
            "image/png": "[encoded data removed]",
            "text/plain": [
              "<matplotlib.figure.Figure at 0x7fa594eb0cc0>"
            ]
          },
          "metadata": {
            "tags": []
          }
        }
      ]
    },
    {
      "cell_type": "code",
      "metadata": {
        "id": "yuD3zvKhV0nY",
        "colab_type": "code",
        "outputId": "35ee0fb9-5e98-47a7-e170-1f0fd0ccf3de",
        "colab": {
          "base_uri": "https://localhost:8080/",
          "height": 379
        }
      },
      "source": [
        "data.plot.scatter(x='petallength', y='petalwidth', c=y, s=25+y*50)"
      ],
      "execution_count": 0,
      "outputs": [
        {
          "output_type": "execute_result",
          "data": {
            "text/plain": [
              "<matplotlib.axes._subplots.AxesSubplot at 0x7fa594172cf8>"
            ]
          },
          "metadata": {
            "tags": []
          },
          "execution_count": 55
        },
        {
          "output_type": "display_data",
          "data": {
            "image/png": "[encoded data removed]",
            "text/plain": [
              "<matplotlib.figure.Figure at 0x7fa5942a58d0>"
            ]
          },
          "metadata": {
            "tags": []
          }
        }
      ]
    },
    {
      "cell_type": "code",
      "metadata": {
        "id": "8d0lvYm7KVBk",
        "colab_type": "code",
        "outputId": "c1007418-dca0-454c-cdaa-ad2ff0167960",
        "colab": {
          "base_uri": "https://localhost:8080/",
          "height": 439
        }
      },
      "source": [
        "#\n",
        "# Resultados de atención en el test según las dimensiones de la entrada\n",
        "#\n",
        "import numpy as np\n",
        "attention_mode = Model(inputs=model.input, outputs=model.get_layer('attention_vec').output)\n",
        "attention_vector = np.mean(attention_mode.predict(x_test),axis=0)\n",
        "\n",
        "print('vector de atención: {}'.format(attention_vector))\n",
        "pd.DataFrame(attention_vector*100.0,columns=['Atención %']).rename(index={i:data.columns[i] for i in range(4)}).plot(\n",
        "    kind='bar', title='Mecanismo de atención según las dimensiones de la entrada.')"
      ],
      "execution_count": 0,
      "outputs": [
        {
          "output_type": "stream",
          "text": [
            "vector de atención: [0.15362889 0.05237302 0.00186193 0.7921362 ]\n"
          ],
          "name": "stdout"
        },
        {
          "output_type": "execute_result",
          "data": {
            "text/plain": [
              "<matplotlib.axes._subplots.AxesSubplot at 0x7fa590f4c198>"
            ]
          },
          "metadata": {
            "tags": []
          },
          "execution_count": 65
        },
        {
          "output_type": "display_data",
          "data": {
            "image/png": "[encoded data removed]",
            "text/plain": [
              "<matplotlib.figure.Figure at 0x7fa591bc6828>"
            ]
          },
          "metadata": {
            "tags": []
          }
        }
      ]
    },
    {
      "cell_type": "markdown",
      "metadata": {
        "id": "YxG9bRlY39YL",
        "colab_type": "text"
      },
      "source": [
        "\n",
        "---\n",
        "\n",
        "# Resumen"
      ]
    },
    {
      "cell_type": "markdown",
      "metadata": {
        "id": "H5ESNcU23_e-",
        "colab_type": "text"
      },
      "source": [
        "* Introducción intuitiva a las redes neuronales atificiales.\n",
        "\n",
        "* **Keras** paquete básico para comenzar a usar **Deep Learning**.\n",
        "\n",
        "* La red básica es el MLP (Multilayer Perceptron) pero existen multitud de topologías. Las más importantes se estudiarán en las próximas sesiones.\n",
        "\n",
        "* Se han presentado algunos ejemplos con **Keras** para solucionar problemas similares a los estudiados en el tema anterior con `sklearn`.\n",
        "\n",
        "* En redes neuronales es habitual tener que **reestructurar de los datos** con `reshape` (`Numpy`) y ajustar la escala de valores con `StandardScaler` (`sklearn`) o similares."
      ]
    }
  ]
}