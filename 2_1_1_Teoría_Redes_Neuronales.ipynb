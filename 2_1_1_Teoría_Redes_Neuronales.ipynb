{
  "nbformat": 4,
  "nbformat_minor": 0,
  "metadata": {
    "colab": {
      "name": "Copia de 2.1.1. Teoría - Redes Neuronales.ipynb",
      "version": "0.3.2",
      "provenance": [],
      "collapsed_sections": [],
      "include_colab_link": true
    },
    "kernelspec": {
      "name": "python3",
      "display_name": "Python 3"
    },
    "accelerator": "GPU"
  },
  "cells": [
    {
      "cell_type": "markdown",
      "metadata": {
        "id": "view-in-github",
        "colab_type": "text"
      },
      "source": [
        "<a href=\"https://colab.research.google.com/github/aszapla/Curso-DL/blob/master/2_1_1_Teor%C3%ADa_Redes_Neuronales.ipynb\" target=\"_parent\"><img src=\"https://colab.research.google.com/assets/colab-badge.svg\" alt=\"Open In Colab\"/></a>"
      ]
    },
    {
      "cell_type": "markdown",
      "metadata": {
        "id": "yDRnWCqlB0HM",
        "colab_type": "text"
      },
      "source": [
        "# 2.1.1. Redes neuronales\n",
        "\n",
        "* Las Redes Neuronales fueron originalmente una simulación abstracta de los sistemas nerviosos biológicos. \n",
        "\n",
        "* El primer modelo de red neuronal fue propuesto en [1943 por McCulloch y Pitts](https://link.springer.com/article/10.1007%2FBF02478259) en términos de un modelo computacional de actividad nerviosa. Posteriormente, [Frank Rosenblatt en 1958](http://citeseerx.ist.psu.edu/viewdoc/download?doi=10.1.1.335.3398&rep=rep1&type=pdf) propuso el primer modelo de neurona o perceptrón. Y finalmente en [1986 Rumelhart, Hinton y Williams](https://web.stanford.edu/class/psych209a/ReadingsByDate/02_06/PDPVolIChapter8.pdf) propusieron el perceptrón multicapa. \n",
        "\n",
        "<br> \n",
        "<p align=\"center\">\n",
        "<img src = http://www.dlsi.ua.es/~jgallego/deepraltamira/deep_learning_timeline_1.png>\n",
        "</p>\n",
        "<br>\n",
        "\n",
        "\n",
        "* Están formadas por un conjunto de unidades llamadas neuronas o nodos conectados unos con otros imitando el comportamiento observado en los axones de las neuronas en los cerebros biológicos.\n",
        "\n",
        "\n",
        "<br>\n",
        "<p align=\"center\">\n",
        "![red neuronal]<img src= http://www.dlsi.ua.es/~jgallego/deepraltamira/neural_network.jpg>\n",
        "</p>\n",
        "<br>\n",
        "\n",
        "\n",
        "* La redes neuronales siempre se organizan en capas, con: \n",
        "\n",
        " * Una capa de entrada.\n",
        " \n",
        " * Una o más capas oculas.\n",
        " \n",
        " * Una capa de salida.\n",
        " \n",
        "* Cada neurona está conectada con todas las neuronas de la capa anterior.\n",
        "\n",
        "* Los enlaces entre las neuronas pueden modificar el estado de activación de las neuronas con las que se conecta. \n"
      ]
    },
    {
      "cell_type": "markdown",
      "metadata": {
        "id": "YcamoN5f6OpG",
        "colab_type": "text"
      },
      "source": [
        "## Neurona o perceptron \n",
        "\n",
        "Cada neurona de la red se estructura de la siguiente forma:\n",
        "\n",
        "<br>\n",
        "<p align=\"center\">\n",
        "![neurona](http://www.dlsi.ua.es/~jgallego/deepraltamira/neurona1.png)\n",
        "</p>\n",
        "\n",
        "\n",
        "Es decir: \n",
        "\n",
        "* Recibe $x_n$ entradas.\n",
        "\n",
        "* Pondera estas entradas por unos pesos $w$.\n",
        "\n",
        "* Suma el resultado de esta ponderación.\n",
        "\n",
        "* Le añade un umbral o bias $b$.\n",
        "\n",
        "* Y pasa este resultado por una función $f$ de activación.\n",
        "\n",
        "<br>\n",
        "\n",
        "La expresión matemática de una neurona sería: \n",
        "\n",
        "<br>\n",
        "\n",
        "\\begin{equation}\n",
        "y = f \\Big( \\sum w_n x_n + b \\Big)\n",
        "\\end{equation}\n",
        "\n",
        "<br>\n",
        "\n",
        "Por lo que (si no tenemos en cuenta la función $f$ de activación) en realidad está aplicando una **función lineal** como la siguiente: \n",
        "\n",
        "<br>\n",
        "<p align=\"center\">\n",
        "![clasificación lineal](http://www.dlsi.ua.es/~jgallego/deepraltamira/linear_classification.png)\n",
        "</p>\n",
        "<br>\n",
        "\n",
        "Al añadir la función de activación y combinar el resultado de las distintas neuronas capa tras capa lo que obtenemos es un **clasificador no lineal** con el que podemos hacer discriminaciones como la siguiente: \n",
        "\n",
        "\n",
        "<br>\n",
        "<p align=\"center\">\n",
        "![non linear classification](http://www.dlsi.ua.es/~jgallego/deepraltamira/non_linear_classification.png)\n",
        "</p>"
      ]
    },
    {
      "cell_type": "markdown",
      "metadata": {
        "id": "JSeFcy2j6SAW",
        "colab_type": "text"
      },
      "source": [
        "## Función de activación\n",
        "\n",
        "* La salida de cada neurona se transforma aplicando una función de activación. \n",
        "\n",
        "* De esta forma podemos modificar la salida de la neurona, aplicar **funciones no lineales**, restringir la salida a un rango dado (entre 0 y 1, o entre -1 y 1) o a valores discretos (0 ó 1). \n",
        "\n",
        "* En general es mejor utilizar funciones no lineales que devuelvan valores contínuos, ya que esto nos permitirá aprender clasificadores más complejos. \n",
        "\n",
        "* También dependiendo de la función utilizada será más fácil o costoso el aprendizaje de los pesos. \n",
        "\n",
        "* Esta función tiene que ser **derivable** para poder calcular la pendiente en un punto dado. De esta forma, durante el entrenamiento, podremos saber cómo ajustar los pesos para reducir el error. \n",
        "\n",
        "* Las funciones de activación más utilizadas son la función **Sigmoidal** y la **Rectified Linear Unit (ReLU)**, pero hay muchas más: \n",
        "\n",
        "\n",
        "<br>\n",
        "<p align=\"center\">\n",
        "![activation functions](http://www.dlsi.ua.es/~jgallego/deepraltamira/activation_functions.jpg)\n",
        "</p>\n",
        "\n",
        "\n",
        "### Salida de la red en problemas de clasificación categórica\n",
        "\n",
        "* Podemos utilizar la función sigmoidea como salida en problemas de clasificación binaria. \n",
        "\n",
        "* Cuando tenemos más de dos clases se puede añadir una neurona de salida con función sigmoidea para cada clase. \n",
        "\n",
        "* Aunque en estos casos se recomienda utilizar la función de activación **Softmax** para la salida de la red. \n",
        "\n",
        "* La función **Softmax** asigna probabilidades en el rango $[0, 1]$ a cada clase. \n",
        "\n",
        "* Las probabilidades sumarán 1. Esta restricción adicional permite que el entrenamiento converja más rápido.\n",
        "\n",
        "\\begin{equation}\n",
        "\\sigma : \\mathbb{R} ^{K} \\to [0, 1]^K\n",
        "\\end{equation}\n"
      ]
    },
    {
      "cell_type": "markdown",
      "metadata": {
        "id": "IX840KbL6Y5L",
        "colab_type": "text"
      },
      "source": [
        "## Entrenamiendo de la red\n",
        "\n",
        "* Inicialmente los pesos de la red ($w$ y $b$) se inicializan con valores aleatorios. \n",
        "\n",
        "* El proceso de entrenamiento consiste en encontrar la combinación de pesos que mejor se ajuste a una muestra de entrenamiento dada. \n",
        "\n",
        "&nbsp;\n",
        "<p align=\"center\">\n",
        "![clasificación lineal](http://www.dlsi.ua.es/~jgallego/deepraltamira/linear_classification_animation.gif)\n",
        "</p>\n",
        "&nbsp;\n",
        "\n",
        "* Este proceso trata de encontrar un mínimo en la superficie de error formada a partir de los parámetros de la red y la muestra de entrenamiento. \n",
        "\n",
        "* Este proceso suele ser muy complejo dado que la superficie normalmente será N-dimensional y contendrá muchos valles, además, en cada momento solo sabemos el **error cometido en ese punto**, con la configuración de parámetros actual. \n",
        "\n",
        "&nbsp;\n",
        "<p align=\"center\">\n",
        "![backpropagation surface](http://www.dlsi.ua.es/~jgallego/deepraltamira/backpropagation_surface.jpg)\n",
        "</p>\n",
        "&nbsp;\n",
        "\n",
        "* Este proceso de entrenamiento se realiza utilizando el método de \"**propagación hacia atrás de errores**\" o \"**retropropagación**\" o, del inglés, ***backpropagation***.\n",
        "\n",
        "* Este método funciona en dos fases: \n",
        "\n",
        " 1. **Paso forward o hacia adelante:** se suministran las muestras de entrenamiento a la red, se obtiene la predicción y se compara esta salida con la salida deseada. Con esto se puede calcular el error (usando una función de error o ***loss***) para cada una de las salidas. \n",
        "\n",
        " 2. **Paso backward o hacia atrás:** El error calculado se propaga hacia atrás desde la capa de salida. Cada neurona recibirá la fracción de error cometido por la misma. \n",
        "   \n",
        "   * Este proceso lo realizaremos utilizando el método de optimización de **descenso por gradiente**, el cual se basa en calcular la pendiente en el punto actual y actualizar los pesos **un poco** (que dependerá del parámetro de aprendizaje *learning rate*), moviéndonos en la dirección opuesta al gradiente. \n",
        "\n",
        "&nbsp;\n",
        "<p align=\"center\">\n",
        "![backpropagation method](http://www.dlsi.ua.es/~jgallego/deepraltamira/backpropagation_method.png)\n",
        "</p>\n",
        "&nbsp;\n",
        "\n",
        "* Además del descenso por gradicente (*gradient descent*) hay otros muchos algoritmos optimizadores que podemos utilizar: *Stochastic gradient descent (SGD), RMSprop, Adagrad, Adadelta*...\n",
        "\n",
        "&nbsp;\n",
        "<p align=\"center\">\n",
        "![Optimizadores](http://www.dlsi.ua.es/~jgallego/deepraltamira/backpropagation_optimizers.gif)\n",
        "</p>\n",
        "&nbsp;\n",
        "\n",
        "\n",
        "* Una vez finaliza el proceso de entrenamiento ya se puede usar la red con los pesos aprendidos para hacer predicciones o clasificaciones. En esta etapa solo será necesario realizar el paso hacia adelante.\n",
        "\n",
        "<br>\n",
        "\n",
        "&#10158; A continuación vamos a ver un ejemplo sencillo del entrenamiento de una red formada por una entrada con dos neuronas (datos 2D), una capa oculta con una neurona y una capa de salida con otra neurona. "
      ]
    },
    {
      "cell_type": "code",
      "metadata": {
        "id": "dlg7282z8N2A",
        "colab_type": "code",
        "outputId": "f263d266-7b07-4571-aa66-ec6ca5bcfe1f",
        "colab": {
          "base_uri": "https://localhost:8080/",
          "height": 398
        }
      },
      "source": [
        "\"\"\"\n",
        "En primer lugar importamos la librerías necesarias y generamos datos de \n",
        "entrenamiento aleatorios.\n",
        "\"\"\"\n",
        "\n",
        "import matplotlib.pyplot as plt\n",
        "from sklearn.metrics import accuracy_score\n",
        "import numpy as np\n",
        "\n",
        "np.random.seed(1)  # Fijamos la semilla\n",
        "\n",
        "# -------------------------------\n",
        "def plot(x, y, pred=None):\n",
        "  x0 = x[y == 0]\n",
        "  x1 = x[y == 1]\n",
        "  plt.plot(x0[:,0], x0[:,1], 'go')\n",
        "  plt.plot(x1[:,0], x1[:,1], 'bo')\n",
        "\n",
        "  if pred is not None: \n",
        "    e = x[y != pred]  # Nos quedamos con los errores de predicción\n",
        "    plt.plot(e[:,0], e[:,1], 'ro', ms=10)\n",
        "  \n",
        "  plt.show()\n",
        "\n",
        "\n",
        "print('Datos aleatorios generados para el entrenamiento:')\n",
        "\n",
        "x_train = np.random.random((500,2))\n",
        "y_train = np.array([(0.5 * x_train[:,0] + 0.2 > x_train[:,1])]).astype(int).T\n",
        "\n",
        "plot(x_train, y_train.T[0])\n",
        "\n",
        "print('Forma de los datos generados:')\n",
        "print(x_train.shape, y_train.shape)"
      ],
      "execution_count": 0,
      "outputs": [
        {
          "output_type": "stream",
          "text": [
            "Datos aleatorios generados para el entrenamiento:\n"
          ],
          "name": "stdout"
        },
        {
          "output_type": "display_data",
          "data": {
            "image/png": "[encoded data removed]",
            "text/plain": [
              "<matplotlib.figure.Figure at 0x7f33d20fb668>"
            ]
          },
          "metadata": {
            "tags": []
          }
        },
        {
          "output_type": "stream",
          "text": [
            "Forma de los datos generados:\n",
            "(500, 2) (500, 1)\n"
          ],
          "name": "stdout"
        }
      ]
    },
    {
      "cell_type": "code",
      "metadata": {
        "id": "26rCbPKrxdpS",
        "colab_type": "code",
        "outputId": "2fe94733-4649-4cc5-9db5-fb5e0d1af579",
        "colab": {
          "base_uri": "https://localhost:8080/",
          "height": 238
        }
      },
      "source": [
        "\"\"\"\n",
        "A continuación entrenamos la red neuronal\n",
        "\"\"\"\n",
        "\n",
        "# -------------------------------\n",
        "# Función sigmoidea\n",
        "def nonlin(x,deriv=False):\n",
        "    if(deriv==True):\n",
        "        return x*(1-x)\n",
        "    return 1/(1+np.exp(-x))\n",
        "\n",
        "# Inicializamos los pesos de forma aleatoria con media 0\n",
        "weights0 = 2 * np.random.random((2,1)) - 1\n",
        "bias0 = np.array([0.0])   # Inicializamos el bias\n",
        "\n",
        "\n",
        "epocas = 1000\n",
        "print('Entrenamos durante {} epocas'.format(epocas))\n",
        "\n",
        "for iter in range(epocas):\n",
        "    # Paso Forward\n",
        "    prediccion = nonlin(np.dot(x_train, weights0) + bias0)\n",
        "        \n",
        "    # Calculamos el error cometido\n",
        "    error = y_train - prediccion\n",
        "    if iter % 100 == 0:\n",
        "      print(' - Epoca {} - Error {:0.4f}'.format(iter, np.mean(np.fabs(error)) ))\n",
        "\n",
        "    # Multiplicamos el error cometido por la pendiente de la función en ese \n",
        "    # punto, así obtenemos el incremento que tenemos que aplicar sobre los pesos\n",
        "    delta = error * nonlin(prediccion, True)\n",
        "    \n",
        "    # Actualizamos los pesos\n",
        "    weights0 += np.dot(x_train.T, delta)\n",
        "    bias0 += np.sum(delta)\n",
        "\n",
        "print('Error final del entrenamiento: {:0.4f}'.format( np.mean(np.fabs(error)) ))\n",
        "print('Aciertos con los datos de entrenamiento: {:0.2f}%'.format( accuracy_score(y_train, prediccion > .5) * 100 ))"
      ],
      "execution_count": 0,
      "outputs": [
        {
          "output_type": "stream",
          "text": [
            "Entrenamos durante 1000 epocas\n",
            " - Epoca 0 - Error 0.5552\n",
            " - Epoca 100 - Error 0.4600\n",
            " - Epoca 200 - Error 0.4600\n",
            " - Epoca 300 - Error 0.4600\n",
            " - Epoca 400 - Error 0.0638\n",
            " - Epoca 500 - Error 0.0364\n",
            " - Epoca 600 - Error 0.0340\n",
            " - Epoca 700 - Error 0.0316\n",
            " - Epoca 800 - Error 0.0288\n",
            " - Epoca 900 - Error 0.0262\n",
            "Error final del entrenamiento: 0.0230\n",
            "Aciertos con los datos de entrenamiento: 97.60%\n"
          ],
          "name": "stdout"
        }
      ]
    },
    {
      "cell_type": "code",
      "metadata": {
        "id": "SDdcwmHxx0n1",
        "colab_type": "code",
        "outputId": "74b0d589-6f0a-4f94-eed9-4f22439a8b0f",
        "colab": {
          "base_uri": "https://localhost:8080/",
          "height": 382
        }
      },
      "source": [
        "\"\"\"\n",
        "Y por último evaluamos la red con los pesos aprendidos con un nuevo conjunto\n",
        "de datos\n",
        "\"\"\"\n",
        "\n",
        "print('Generamos nuevos datos aleatorios para la evaluación:')\n",
        "\n",
        "x_test = np.random.random((100,2))\n",
        "y_test = np.array([(0.5 * x_test[:,0] + 0.2 > x_test[:,1])]).astype(int).T\n",
        "\n",
        "\n",
        "# Realizamos el paso Forward por la red\n",
        "prediccion = nonlin(np.dot(x_test, weights0) + bias0)\n",
        "\n",
        "\n",
        "# Calculamos el resultado obtenido y lo mostramos \n",
        "prediccion = np.array(prediccion > .5).astype(int)\n",
        "\n",
        "plot(x_test, y_test.T[0], prediccion.T[0])\n",
        "\n",
        "print(\"Aciertos con los datos de evaluación: {:0.2f}%\".format( accuracy_score(y_test, prediccion)*100 ))"
      ],
      "execution_count": 0,
      "outputs": [
        {
          "output_type": "stream",
          "text": [
            "Generamos nuevos datos aleatorios para la evaluación:\n"
          ],
          "name": "stdout"
        },
        {
          "output_type": "display_data",
          "data": {
            "image/png": "[encoded data removed]",
            "text/plain": [
              "<matplotlib.figure.Figure at 0x7f33d1509860>"
            ]
          },
          "metadata": {
            "tags": []
          }
        },
        {
          "output_type": "stream",
          "text": [
            "Aciertos con los datos de evaluación: 96.00%\n"
          ],
          "name": "stdout"
        }
      ]
    },
    {
      "cell_type": "markdown",
      "metadata": {
        "id": "8160yyX7yHK0",
        "colab_type": "text"
      },
      "source": [
        "## Redes neuronales con Keras\n",
        "\n",
        "* En Keras disponemos de las clases `Sequenzial` y `Dense` para crear una red neuronal tipo secuencial formada por capas de neuronas. \n",
        "\n",
        "* La clase [`Sequential`](https://keras.io/models/sequential/) nos permite crear un modelo de red \"secuencial\" y además nos proporciona los siguientes métodos:\n",
        "\n",
        " * `compile`: compila la red para prepararla para el entrenamiento y evaluación. Además nos permite indicar el [optimizador](https://keras.io/optimizers/) y función de pérdida (*loss*) a utilizar.\n",
        " \n",
        " * `fit`: Inicia el entrenamiento de la red. En este método tenemos que indicar los datos de entrenamiento, el número de épocas y tamaño del batch a utilizar. \n",
        " \n",
        " * `evaluate`: Evalua la red usando la función de pérdida y métricas indicadas al compilar. \n",
        " \n",
        " * `predict`: Devuelve la predicción de la red para nuevas muestras.\n",
        "\n",
        "* La clase [`Dense`](https://keras.io/layers/core/#dense) nos permite añadir capas de neuronas a la red, indicando como parámetro el número de neuronas de la capa y la función de activación a utilizar en cada neurona. Por ejemplo: `Dense(1, activation='sigmoid')`\n",
        "\n",
        "\n",
        "\n",
        "\n",
        "\n",
        "\n",
        "\n",
        "\n",
        "<br>\n",
        "\n",
        "&#10158; El código que tendríamos que escribir en Keras para clasificar los mismos datos del ejemplo anterior sería: \n"
      ]
    },
    {
      "cell_type": "code",
      "metadata": {
        "id": "9faMtYiSymwL",
        "colab_type": "code",
        "outputId": "e578df35-02f5-4114-efbc-47f2acec57f6",
        "colab": {
          "base_uri": "https://localhost:8080/",
          "height": 2303
        }
      },
      "source": [
        "from keras.models import Sequential\n",
        "from keras.layers import Dense\n",
        "from keras.optimizers import SGD\n",
        "from tensorflow import set_random_seed\n",
        "set_random_seed(2)  # Fijamos la semilla de TF\n",
        "\n",
        "# Definimos la red\n",
        "model = Sequential()\n",
        "model.add(Dense(1, input_dim=2))          # Capa de entrada con 2 neuronas e intermedia con 1 neurona\n",
        "model.add(Dense(1, activation='sigmoid')) # Capa de salida con 1 neurona\n",
        "print(model.summary())                    # Mostramos un resumen de la red\n",
        "\n",
        "# La compilamos e iniciamos el entrenamiento\n",
        "model.compile(optimizer=SGD(lr=.05), loss='mae', metrics=['accuracy'])\n",
        "model.fit(x_train, y_train, epochs=50, batch_size=32, verbose=2)\n",
        "\n",
        "prediccion = model.predict( x_test )\n",
        "\n",
        "print(\"Datos de evaluación:\")\n",
        "prediccion = np.array(prediccion > .5).astype(int)\n",
        "plot(x_test, y_test.T[0], prediccion.T[0])\n",
        "print(\"Aciertos en la evaluación: {:0.2f}%\".format( accuracy_score(y_test, prediccion)*100 ))"
      ],
      "execution_count": 0,
      "outputs": [
        {
          "output_type": "stream",
          "text": [
            "Using TensorFlow backend.\n"
          ],
          "name": "stderr"
        },
        {
          "output_type": "stream",
          "text": [
            "_________________________________________________________________\n",
            "Layer (type)                 Output Shape              Param #   \n",
            "=================================================================\n",
            "dense_1 (Dense)              (None, 1)                 3         \n",
            "_________________________________________________________________\n",
            "dense_2 (Dense)              (None, 1)                 2         \n",
            "=================================================================\n",
            "Total params: 5\n",
            "Trainable params: 5\n",
            "Non-trainable params: 0\n",
            "_________________________________________________________________\n",
            "None\n",
            "Epoch 1/50\n",
            " - 1s - loss: 0.4760 - acc: 0.5380\n",
            "Epoch 2/50\n",
            " - 0s - loss: 0.4712 - acc: 0.5660\n",
            "Epoch 3/50\n",
            " - 0s - loss: 0.4660 - acc: 0.6100\n",
            "Epoch 4/50\n",
            " - 0s - loss: 0.4604 - acc: 0.6440\n",
            "Epoch 5/50\n",
            " - 0s - loss: 0.4543 - acc: 0.6740\n",
            "Epoch 6/50\n",
            " - 0s - loss: 0.4480 - acc: 0.7060\n",
            "Epoch 7/50\n",
            " - 0s - loss: 0.4410 - acc: 0.7480\n",
            "Epoch 8/50\n",
            " - 0s - loss: 0.4339 - acc: 0.7720\n",
            "Epoch 9/50\n",
            " - 0s - loss: 0.4262 - acc: 0.7760\n",
            "Epoch 10/50\n",
            " - 0s - loss: 0.4183 - acc: 0.7900\n",
            "Epoch 11/50\n",
            " - 0s - loss: 0.4104 - acc: 0.7980\n",
            "Epoch 12/50\n",
            " - 0s - loss: 0.4022 - acc: 0.8140\n",
            "Epoch 13/50\n",
            " - 0s - loss: 0.3939 - acc: 0.8100\n",
            "Epoch 14/50\n",
            " - 0s - loss: 0.3854 - acc: 0.8180\n",
            "Epoch 15/50\n",
            " - 0s - loss: 0.3772 - acc: 0.8180\n",
            "Epoch 16/50\n",
            " - 0s - loss: 0.3686 - acc: 0.8220\n",
            "Epoch 17/50\n",
            " - 0s - loss: 0.3602 - acc: 0.8340\n",
            "Epoch 18/50\n",
            " - 0s - loss: 0.3517 - acc: 0.8420\n",
            "Epoch 19/50\n",
            " - 0s - loss: 0.3432 - acc: 0.8440\n",
            "Epoch 20/50\n",
            " - 0s - loss: 0.3348 - acc: 0.8520\n",
            "Epoch 21/50\n",
            " - 0s - loss: 0.3261 - acc: 0.8520\n",
            "Epoch 22/50\n",
            " - 0s - loss: 0.3177 - acc: 0.8560\n",
            "Epoch 23/50\n",
            " - 0s - loss: 0.3091 - acc: 0.8680\n",
            "Epoch 24/50\n",
            " - 0s - loss: 0.3007 - acc: 0.8720\n",
            "Epoch 25/50\n",
            " - 0s - loss: 0.2924 - acc: 0.8840\n",
            "Epoch 26/50\n",
            " - 0s - loss: 0.2843 - acc: 0.8920\n",
            "Epoch 27/50\n",
            " - 0s - loss: 0.2763 - acc: 0.8940\n",
            "Epoch 28/50\n",
            " - 0s - loss: 0.2685 - acc: 0.9000\n",
            "Epoch 29/50\n",
            " - 0s - loss: 0.2609 - acc: 0.9020\n",
            "Epoch 30/50\n",
            " - 0s - loss: 0.2537 - acc: 0.9060\n",
            "Epoch 31/50\n",
            " - 0s - loss: 0.2465 - acc: 0.9180\n",
            "Epoch 32/50\n",
            " - 0s - loss: 0.2396 - acc: 0.9200\n",
            "Epoch 33/50\n",
            " - 0s - loss: 0.2332 - acc: 0.9220\n",
            "Epoch 34/50\n",
            " - 0s - loss: 0.2267 - acc: 0.9260\n",
            "Epoch 35/50\n",
            " - 0s - loss: 0.2206 - acc: 0.9300\n",
            "Epoch 36/50\n"
          ],
          "name": "stdout"
        },
        {
          "output_type": "stream",
          "text": [
            " - 0s - loss: 0.2148 - acc: 0.9320\n",
            "Epoch 37/50\n",
            " - 0s - loss: 0.2092 - acc: 0.9360\n",
            "Epoch 38/50\n",
            " - 0s - loss: 0.2037 - acc: 0.9380\n",
            "Epoch 39/50\n",
            " - 0s - loss: 0.1985 - acc: 0.9440\n",
            "Epoch 40/50\n",
            " - 0s - loss: 0.1936 - acc: 0.9420\n",
            "Epoch 41/50\n",
            " - 0s - loss: 0.1888 - acc: 0.9460\n",
            "Epoch 42/50\n",
            " - 0s - loss: 0.1842 - acc: 0.9520\n",
            "Epoch 43/50\n",
            " - 0s - loss: 0.1798 - acc: 0.9500\n",
            "Epoch 44/50\n",
            " - 0s - loss: 0.1755 - acc: 0.9540\n",
            "Epoch 45/50\n",
            " - 0s - loss: 0.1716 - acc: 0.9580\n",
            "Epoch 46/50\n",
            " - 0s - loss: 0.1678 - acc: 0.9580\n",
            "Epoch 47/50\n",
            " - 0s - loss: 0.1641 - acc: 0.9640\n",
            "Epoch 48/50\n",
            " - 0s - loss: 0.1605 - acc: 0.9680\n",
            "Epoch 49/50\n",
            " - 0s - loss: 0.1572 - acc: 0.9680\n",
            "Epoch 50/50\n",
            " - 0s - loss: 0.1540 - acc: 0.9700\n",
            "Datos de evaluación:\n"
          ],
          "name": "stdout"
        },
        {
          "output_type": "display_data",
          "data": {
            "image/png": "[encoded data removed]",
            "text/plain": [
              "<matplotlib.figure.Figure at 0x7f338b85df98>"
            ]
          },
          "metadata": {
            "tags": []
          }
        },
        {
          "output_type": "stream",
          "text": [
            "Aciertos en la evaluación: 96.00%\n"
          ],
          "name": "stdout"
        }
      ]
    },
    {
      "cell_type": "markdown",
      "metadata": {
        "id": "BxqBfOapBE_i",
        "colab_type": "text"
      },
      "source": [
        "## Overfitting\n",
        "\n",
        "* Se denomina \"*overfitting*\" o sobreajuste al efecto producido al sobreentrenar un algoritmo de aprendizaje con unos ciertos datos para los que se conoce el resultado deseado. \n",
        "\n",
        "* Cuando un sistema se sobreentrena el algoritmo puede quedar ajustado a unas características muy específicas de los datos de entrenamiento que no tienen relación causal con la función objetivo.\n",
        "\n",
        "* En este caso el algoritmo no generaliza. \n",
        "\n",
        "\n",
        "<br>\n",
        "<p align=\"center\">\n",
        "![Overfitting example](http://www.dlsi.ua.es/~jgallego/deepraltamira/overfitting_example.png)\n",
        "</p>\n",
        "<br>\n",
        "\n",
        "* Este problema es bastante frecuente al entrenar redes neuronales (en general).\n",
        "\n",
        "* El motivo suele ser:\n",
        " * Pocos datos de entrenamiento \n",
        " * Uso de modelos de red no adecuados a la cantidad o variabilidad de los datos de entrenamiento. \n",
        "\n",
        "* Si representamos en una gráfica el error cometido por la red durante el entrenamiento para la muestra de aprendizaje (training) y la de validación (validation), un ejemplo típico de overfitting sería: \n",
        "\n",
        "<br>\n",
        "<p align=\"center\">\n",
        "![Overfitting curve](http://www.dlsi.ua.es/~jgallego/deepraltamira/overfitting_curve1.png)\n",
        "</p>\n",
        "<br>\n",
        "\n",
        "* Tenemos diferentes soluciones para evitar este problema:\n",
        "\n",
        " * Detener el entrenamiento antes de que suceda (en la línea de puntos de la gráfica). \n",
        " \n",
        " * Si es demasiado pronto para detener el entrenamiento (porque el error todavía es alto) y tiene una **varianza alta** podríamos: \n",
        " \n",
        "   * Añadir más datos o datos más variados al training set. \n",
        "   * Aplicar aumentado de datos. \n",
        "   * Reducir la complejidad de la red neuronal. \n",
        "   * Usar técnicas para evitar el overfitting como Dropout o Batch Normalization. \n",
        "\n",
        "* En los casos en los que tengamos un **bias alto** deberemos aumentar el tamaño de la red o modificar su topología. "
      ]
    },
    {
      "cell_type": "markdown",
      "metadata": {
        "id": "1dkIdr2EusCA",
        "colab_type": "text"
      },
      "source": [
        "### Dropout\n",
        "\n",
        "* Esta operación consiste en desconectar aleatoriamente un porcentaje de las neuronas de la red en cada iteración del entrenamiento.\n",
        "\n",
        "<br>\n",
        "<p align=\"center\">\n",
        "![Dropout](http://www.dlsi.ua.es/~jgallego/deepraltamira/dropout.png)\n",
        "</p>\n",
        "<br>\n",
        "\n",
        "* En Keras tenemos la clase [Dropout](https://keras.io/layers/core/#dropout) que nos permite aplicar fácilmente esta técnica sobre las capas de la red.\n",
        "\n",
        " * Esta clase recibe como parámetro el porcentaje (entre 0 y 1) de las neuronas a desactivar en cada iteración. \n",
        "\n"
      ]
    },
    {
      "cell_type": "markdown",
      "metadata": {
        "id": "ZkpyrM-Lio8r",
        "colab_type": "text"
      },
      "source": [
        "&nbsp;\n",
        "\n",
        "&nbsp;\n",
        "\n",
        "\n",
        "---\n",
        "\n",
        "\n",
        "<font size=\"3\">\n",
        "**[&#10158;  A continuación vamos a ver las Redes Neuronales Convolucionales &#10158; ](https://colab.research.google.com/drive/1XqIp8-tK8JZ-gzOuqu5tuUGPajOFXaKX)**\n",
        "</font>\n",
        "\n",
        "\n",
        "\n",
        "---\n",
        "\n"
      ]
    }
  ]
}