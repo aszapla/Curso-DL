{
  "nbformat": 4,
  "nbformat_minor": 0,
  "metadata": {
    "colab": {
      "name": "1.3-Tablas de datos con Pandas y gráficos básicos.ipynb",
      "version": "0.3.2",
      "provenance": [],
      "collapsed_sections": [],
      "toc_visible": true,
      "include_colab_link": true
    },
    "kernelspec": {
      "display_name": "Python 3",
      "language": "python",
      "name": "python3"
    }
  },
  "cells": [
    {
      "cell_type": "markdown",
      "metadata": {
        "id": "view-in-github",
        "colab_type": "text"
      },
      "source": [
        "<a href=\"https://colab.research.google.com/github/aszapla/Curso-DL/blob/master/1_3_Tablas_de_datos_con_Pandas_y_gr%C3%A1ficos_b%C3%A1sicos.ipynb\" target=\"_parent\"><img src=\"https://colab.research.google.com/assets/colab-badge.svg\" alt=\"Open In Colab\"/></a>"
      ]
    },
    {
      "cell_type": "markdown",
      "metadata": {
        "id": "Dzf5ZuzTn2HA",
        "colab_type": "text"
      },
      "source": [
        "<center><img src=\"https://www.dlsi.ua.es/~juanra/UA/curso_verano_DL/images/pandas-logo.png\" height=\"100\"></center>\n",
        "\n",
        "# 1.3 Tablas de datos con Pandas y gráficos básicos\n",
        "\n",
        "Profesor: Juan Ramón Rico (<juanramonrico@ua.es>)\n",
        "\n",
        "## Resumen\n",
        "\n",
        "----\n",
        "**Pandas**: Pandas es un paquete de alto rendimiento para estructuras de datos tipo tabla, análisis y visualización de datos. Está construido sobre `NumPy` y `MatPlotLib`.\n",
        "- Documentación <https://pandas.pydata.org/pandas-docs/stable/>\n",
        "- Tutorial de inicio rápido <https://pandas.pydata.org/pandas-docs/stable/10min.html>    \n",
        "\n",
        "**MatPlotLib**: Es un paquete flexible de visualización de gráficos. Es potente pero algo difícil para usuarios nóveles.\n",
        "- Documentación <https://matplotlib.org/contents.html>\n",
        "- Tutorial de inicio rápido <https://matplotlib.org/users/pyplot_tutorial.html>\n",
        "\n",
        "---"
      ]
    },
    {
      "cell_type": "markdown",
      "metadata": {
        "id": "IF1TmsXAn2Mm",
        "colab_type": "text"
      },
      "source": [
        "# Tablas de datos (data frame)\n"
      ]
    },
    {
      "cell_type": "markdown",
      "metadata": {
        "id": "KgteOiNyzbxG",
        "colab_type": "text"
      },
      "source": [
        "También existe un tipo similar a una tabla de datos (data frame). Es el equivalente a una tabla bidimensional con nombres en las filas y las columnas. \n",
        "Además, puede contener diferentes tipos de datos con cada columna que el tipo matriz no permite.\n",
        "\n",
        "Lo más habitual para trabajar con data frame es importar tablas desde ficheros (texto, hojas de cálculo).\n",
        "\n",
        "Creando y almacenando data frame\n",
        "\n",
        "Para utilizar este tipo de datos usaremos un paquete llamado `Pandas`\n",
        "\n",
        "`pip install pandas`"
      ]
    },
    {
      "cell_type": "markdown",
      "metadata": {
        "id": "TXbNxT8C-iUM",
        "colab_type": "text"
      },
      "source": [
        "## Creando tablas"
      ]
    },
    {
      "cell_type": "code",
      "metadata": {
        "id": "Of1ooGPZn2Mo",
        "colab_type": "code",
        "colab": {}
      },
      "source": [
        "import numpy as np\n",
        "import pandas as pd\n",
        "\n",
        "Nombre = np.array(['Juan', 'Pedro', 'Ana', 'Isabel'])\n",
        "Grupo  = ['Mañana','Tarde','Mañana','Tarde']\n",
        "Nota = [8, 5, 9, 5.5]\n",
        "\n",
        "cuatrimestre = pd.DataFrame({'Nombre':Nombre, 'Nota':Nota, 'Grupo':Grupo}, columns=['Nombre', 'Nota', 'Grupo'])\n",
        "cuatrimestre"
      ],
      "execution_count": 0,
      "outputs": []
    },
    {
      "cell_type": "markdown",
      "metadata": {
        "id": "mPl7OcoFXVA_",
        "colab_type": "text"
      },
      "source": [
        "También podemos cargar los datos desde un fichero. El mismo `data frame` anterior se podría conserguir con:"
      ]
    },
    {
      "cell_type": "code",
      "metadata": {
        "id": "y63WjVg5gHaq",
        "colab_type": "code",
        "colab": {}
      },
      "source": [
        "# Mostrar el archivo CSV\n",
        "\n",
        "!curl 'https://www.dlsi.ua.es/~juanra/UA/curso_verano_DL/data/pandas_example.csv'"
      ],
      "execution_count": 0,
      "outputs": []
    },
    {
      "cell_type": "code",
      "metadata": {
        "id": "DTVK9s9oXkto",
        "colab_type": "code",
        "colab": {}
      },
      "source": [
        "import pandas as pd\n",
        "\n",
        "cuatrimestre = pd.read_csv('https://www.dlsi.ua.es/~juanra/UA/curso_verano_DL/data/pandas_example.csv')\n",
        "cuatrimestre"
      ],
      "execution_count": 0,
      "outputs": []
    },
    {
      "cell_type": "markdown",
      "metadata": {
        "id": "fBatO9pnXohY",
        "colab_type": "text"
      },
      "source": [
        "Analizando los datos"
      ]
    },
    {
      "cell_type": "code",
      "metadata": {
        "id": "mwOuIlFIn2Mu",
        "colab_type": "code",
        "colab": {}
      },
      "source": [
        "cuatrimestre.describe(include='all')"
      ],
      "execution_count": 0,
      "outputs": []
    },
    {
      "cell_type": "markdown",
      "metadata": {
        "id": "rTJmW29un2My",
        "colab_type": "text"
      },
      "source": [
        "## Seleccionando elementos\n",
        "\n",
        "| cuatrimestre \n",
        "|:----\n",
        "| `cuatrimestre[:2]`\n",
        "| `cuatrimestre[2:]`\n",
        "| `cuatrimestre[:2]['Nota']`\n",
        "| `cuatrimestre[2:]['Nota']`\n",
        "| `cuatrimestre[cuatrimestre.Grupo=='Mañana']`\n",
        "| `cuatrimestre[(cuatrimestre.Grupo=='Mañana') & (cuatrimestre.Nota>8)]`\n",
        "| `cuatrimestre[(cuatrimestre.Grupo=='Mañana') & (cuatrimestre.Nota>8)][\"Nombre\"]`\n",
        "| `cuatrimestre[(cuatrimestre.Grupo=='Mañana') & (cuatrimestre.Nota>8)][[\"Nombre\",\"Nota\"]]`"
      ]
    },
    {
      "cell_type": "code",
      "metadata": {
        "id": "UVL0qJPwn2M0",
        "colab_type": "code",
        "colab": {}
      },
      "source": [
        "cuatrimestre[cuatrimestre.Grupo=='Mañana']"
      ],
      "execution_count": 0,
      "outputs": []
    },
    {
      "cell_type": "markdown",
      "metadata": {
        "id": "AOO5H7-9-xBg",
        "colab_type": "text"
      },
      "source": [
        "## Preparando un fichero de datos\n",
        "\n",
        "Los datos habitualmente se cargan de un fichero CSV. En esta sección mostraremos como se cargan y se verifican los tipos de datos."
      ]
    },
    {
      "cell_type": "markdown",
      "metadata": {
        "id": "Rn1EOKZM_arm",
        "colab_type": "text"
      },
      "source": [
        "### Copiar los ficheros de prueba en el servidor"
      ]
    },
    {
      "cell_type": "code",
      "metadata": {
        "id": "h9GGEt_8_iGa",
        "colab_type": "code",
        "colab": {}
      },
      "source": [
        "# Hay que copiar los archivos de ejemplo\n",
        "!wget https://www.dlsi.ua.es/~juanra/UA/curso_verano_DL/data/basic_data.zip\n",
        "!unzip basic_data"
      ],
      "execution_count": 0,
      "outputs": []
    },
    {
      "cell_type": "markdown",
      "metadata": {
        "id": "NVlEYIzWAE71",
        "colab_type": "text"
      },
      "source": [
        "### Cargar y verificar los tipos de datos"
      ]
    },
    {
      "cell_type": "code",
      "metadata": {
        "id": "X69ninYeADL9",
        "colab_type": "code",
        "colab": {}
      },
      "source": [
        "import pandas as pd\n",
        "\n",
        "# Clasificación binaria con el fichero 'diabete_01.csv'\n",
        "data = pd.read_csv('./basic_data/diabetes_01.csv')\n",
        "\n",
        "print('\\nPrimeras filas')\n",
        "display(data.head())\n",
        "\n",
        "print('\\nTipos de datos en las columnas')\n",
        "display(data.dtypes)\n",
        "\n",
        "print('\\nComprobar si existen valores desconocidos en los datos')\n",
        "display(data.isnull().any())"
      ],
      "execution_count": 0,
      "outputs": []
    },
    {
      "cell_type": "markdown",
      "metadata": {
        "id": "2WLGQvF8h3v1",
        "colab_type": "text"
      },
      "source": [
        "Una precisión de `int32` y `float32` es suficiente para representar la información, además, las actuales GPU trabajan con precisiones de 32 bits y NO de 64."
      ]
    },
    {
      "cell_type": "code",
      "metadata": {
        "id": "535ayFEBAX6N",
        "colab_type": "code",
        "colab": {}
      },
      "source": [
        "# Convirtiendo los tipos de 64 a 32 bits\n",
        "pares = {'int64':'int32', 'float64':'float32'}\n",
        "for i in data.columns:\n",
        "  pareja = pares.get(str(data[i].dtype))\n",
        "  if pareja != None:\n",
        "    data[i]= data[i].astype(pareja)\n",
        "    \n",
        "data.dtypes"
      ],
      "execution_count": 0,
      "outputs": []
    },
    {
      "cell_type": "code",
      "metadata": {
        "id": "PhMXrucjBoMz",
        "colab_type": "code",
        "colab": {}
      },
      "source": [
        "# En realidad la columna 'class' corresponde a si el diagnóstico a si de diabetes (1) o no (0)\n",
        "# Se puede dejar como número entero, o bien, transformarlo en un categoría que en realidad lo es\n",
        "data['class'] = data['class'].astype('category')\n",
        "data['class'].dtype"
      ],
      "execution_count": 0,
      "outputs": []
    },
    {
      "cell_type": "code",
      "metadata": {
        "id": "zSCD8FByAZfE",
        "colab_type": "code",
        "colab": {}
      },
      "source": [
        "# Selección de atributos y variable objetivo\n",
        "x = data.iloc[:,:-1]\n",
        "y = data.iloc[:,-1]\n",
        "\n",
        "display(x.head())\n",
        "display(y.head())"
      ],
      "execution_count": 0,
      "outputs": []
    },
    {
      "cell_type": "markdown",
      "metadata": {
        "id": "QaixOgNRi1az",
        "colab_type": "text"
      },
      "source": [
        "### Ejercicio: leer datos de iris.csv"
      ]
    },
    {
      "cell_type": "code",
      "metadata": {
        "id": "m-lueVLkihn1",
        "colab_type": "code",
        "colab": {}
      },
      "source": [
        "# Ejercicio adaptar los valores del fichero 'iris.csv'\n",
        "\n",
        "data = pd.read_csv('./basic_data/iris.csv')\n",
        "\n",
        "display(data.head())\n",
        "display(data.dtypes)"
      ],
      "execution_count": 0,
      "outputs": []
    },
    {
      "cell_type": "code",
      "metadata": {
        "id": "eenENBdwjIvI",
        "colab_type": "code",
        "colab": {}
      },
      "source": [
        "# Convertir características numéricas a 'float32' y 'class' a 'category'\n"
      ],
      "execution_count": 0,
      "outputs": []
    },
    {
      "cell_type": "code",
      "metadata": {
        "id": "nx7W9xOUjauL",
        "colab_type": "code",
        "colab": {}
      },
      "source": [
        "# Asignar los valores de las características a la variable 'x'\n",
        "\n",
        "# Asignar los valores de la variable objetivo o de clase a la variable 'y'\n"
      ],
      "execution_count": 0,
      "outputs": []
    },
    {
      "cell_type": "markdown",
      "metadata": {
        "id": "rR60eLqen2NA",
        "colab_type": "text"
      },
      "source": [
        "# Gráficos básicos"
      ]
    },
    {
      "cell_type": "markdown",
      "metadata": {
        "id": "pOrty3AYaQPf",
        "colab_type": "text"
      },
      "source": [
        "El paquete básico para gráficos de `Python` es `MatPlotlib` y se instalaría con\n",
        "\n",
        "`pip install matplotlib`\n",
        "\n",
        "si no lo tenemos ya instalado. También es posible mostrar gráficas con `Pandas`, así que mostraremos los mismos ejemplos con ambos paquetes."
      ]
    },
    {
      "cell_type": "markdown",
      "metadata": {
        "id": "SApD5nLMno5z",
        "colab_type": "text"
      },
      "source": [
        "## Función mostrar puntos 2D"
      ]
    },
    {
      "cell_type": "code",
      "metadata": {
        "id": "H8BvCM-Jn2NO",
        "colab_type": "code",
        "colab": {}
      },
      "source": [
        "%matplotlib inline\n",
        "import numpy as np\n",
        "import pandas as pd\n",
        "import matplotlib.pyplot as plt\n",
        "\n",
        "#\n",
        "# matplotlib\n",
        "#\n",
        "matrix = np.random.rand(10,2)\n",
        "x = matrix[:,0]\n",
        "y = matrix[:,1]\n",
        "plt.title('matplotlib')\n",
        "plt.scatter(x, y)\n",
        "plt.show()\n",
        "\n",
        "# Pandas\n",
        "pd.DataFrame({'x':x, 'y':y}).plot.scatter('x','y', title='Pandas')"
      ],
      "execution_count": 0,
      "outputs": []
    },
    {
      "cell_type": "markdown",
      "metadata": {
        "id": "Yz_Iy1Nsn2NS",
        "colab_type": "text"
      },
      "source": [
        "## Vector 1D numérico\n",
        "\n",
        "Vamos a generar un vector con 100 números creados al azar siguiendo \n",
        "una distribución $\\mathcal{N}(0,1)$"
      ]
    },
    {
      "cell_type": "code",
      "metadata": {
        "id": "GJbkRxE-lMUb",
        "colab_type": "code",
        "colab": {}
      },
      "source": [
        "np.random.seed(1000)\n",
        "\n",
        "vn100 = np.random.normal(size=100)"
      ],
      "execution_count": 0,
      "outputs": []
    },
    {
      "cell_type": "markdown",
      "metadata": {
        "id": "yxU-_ROVn2Na",
        "colab_type": "text"
      },
      "source": [
        "### Secuencia de valores"
      ]
    },
    {
      "cell_type": "code",
      "metadata": {
        "id": "Ft-rpxYsn2Na",
        "colab_type": "code",
        "colab": {}
      },
      "source": [
        "# matplotlib\n",
        "plt.title('matplotlib')\n",
        "plt.plot(vn100)\n",
        "\n",
        "# Pandas\n",
        "pd.DataFrame({'x':vn100}).plot.line(title='Pandas')"
      ],
      "execution_count": 0,
      "outputs": []
    },
    {
      "cell_type": "markdown",
      "metadata": {
        "id": "m4zyxVWrn2Ni",
        "colab_type": "text"
      },
      "source": [
        "### Histograma"
      ]
    },
    {
      "cell_type": "code",
      "metadata": {
        "id": "vCDTH6zdn2Nk",
        "colab_type": "code",
        "colab": {}
      },
      "source": [
        "# Matplotlib\n",
        "plt.title('matplotlib')\n",
        "plt.hist(vn100,20)\n",
        "\n",
        "# Pandas\n",
        "pd.DataFrame({'x':vn100}).plot.hist(bins=20, title='Pandas')"
      ],
      "execution_count": 0,
      "outputs": []
    },
    {
      "cell_type": "markdown",
      "metadata": {
        "id": "IfRMu5Xxn2No",
        "colab_type": "text"
      },
      "source": [
        "### Gráfico de cajas (boxplot)"
      ]
    },
    {
      "cell_type": "code",
      "metadata": {
        "id": "Ch8F6O2Gn2No",
        "colab_type": "code",
        "colab": {}
      },
      "source": [
        "#Matplotlib\n",
        "plt.title('matplotlib')\n",
        "plt.boxplot(vn100)\n",
        "\n",
        "# Pandas\n",
        "pd.DataFrame({'x':vn100}).plot.box(title='Pandas')"
      ],
      "execution_count": 0,
      "outputs": []
    },
    {
      "cell_type": "markdown",
      "metadata": {
        "id": "oLJfmx07n2Nu",
        "colab_type": "text"
      },
      "source": [
        "#### Calculado los casos atípicos (outliers)"
      ]
    },
    {
      "cell_type": "code",
      "metadata": {
        "id": "pzJeEyNhn2Nu",
        "colab_type": "code",
        "colab": {}
      },
      "source": [
        "Q1 = np.percentile(vn100, 25)\n",
        "Q3 = np.percentile(vn100, 75)\n",
        "IQR = (Q3 - Q1)\n",
        "outlier_low = Q1 - 1.5 * IQR\n",
        "outlier_high= Q3 + 1.5 * IQR\n",
        "print('Q1: {:.2f}; Q3: {:.2f}; IQR: {:.2f}'.format(Q1, Q3, IQR))\n",
        "print('outlier_low: {:.2f} outlier_high: {:.2f}'.format(outlier_low, outlier_high))\n",
        "print('vn100 outliers: {}'.format(vn100[(vn100<outlier_low) | (vn100>outlier_high)]))"
      ],
      "execution_count": 0,
      "outputs": []
    },
    {
      "cell_type": "markdown",
      "metadata": {
        "id": "9V8c1rLWn2Ny",
        "colab_type": "text"
      },
      "source": [
        "### Resumen de datos"
      ]
    },
    {
      "cell_type": "code",
      "metadata": {
        "id": "99CaUJ_Hn2N0",
        "colab_type": "code",
        "colab": {}
      },
      "source": [
        "pd.DataFrame(vn100).describe()"
      ],
      "execution_count": 0,
      "outputs": []
    },
    {
      "cell_type": "markdown",
      "metadata": {
        "id": "YxG9bRlY39YL",
        "colab_type": "text"
      },
      "source": [
        "---\n",
        "\n",
        "# Resumen"
      ]
    },
    {
      "cell_type": "markdown",
      "metadata": {
        "id": "H5ESNcU23_e-",
        "colab_type": "text"
      },
      "source": [
        "* **Pandas** como paquete básico de manipulación de datos de diferentes tipos y con estructura de **tabla** también sirve para **representar gráficamente** su contenido, o analizarlo **estadísticamente** de una forma sencilla.\n",
        "\n",
        "* **Matplotlib** es el paquete de representaciones gráficas más importante en Python. Tiene una orientación descriptiva donde se necesita indicar, el cómo, y necesita definir cada parte del gráfico con código. Existe otra orientación de alto nivel llamada \n",
        "**declarativa** como la del paquete **Plotnine** que permite definir, el qué, y no necesita especificar cada parte del gráfico."
      ]
    }
  ]
}